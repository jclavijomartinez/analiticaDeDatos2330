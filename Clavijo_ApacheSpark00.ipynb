{
 "cells": [
  {
   "cell_type": "markdown",
   "metadata": {},
   "source": [
    "## Laboratorio de Analitica con DataBricks\n",
    "**Hecho por: Juan Sebastián Clavijo Martínez (jclavijomartinez@gmail.com) - PUJ - Ing. en redes y telecomunicaciones**<br />\n",
    "TEMA: INTRODUCCION A APACHE SPARK<br />\n",
    "Fecha: 30-10-2023<br />\n",
    "Notas: introduccion al entorno y consultas de spark apache<br />\n",
    "Dataset: "
   ]
  },
  {
   "cell_type": "markdown",
   "metadata": {},
   "source": [
    "### introduccion a big data\n",
    "- las 3 V: Volumen, Variedad, Velocidad\n",
    "- hay una necesidad de personas con conocimiento de analitica\n",
    "- Apache spark es la respuesta para manejar grandes volumenes de datos\n",
    "    - se necesita una infraestructura para almacenar grandes cantidades de datos\n",
    "    - se neceista que los datos esten 24/7\n",
    "    - si un nodo se cae, he de tener resiliencia en mis datos\n",
    "    - esto se hace en un sistema de ficheros distribuidos (DFS), es transparente\n",
    "    - Cuando ya esten en el DFS, se necesita procesarlos, con un cluster manager, tolerante a fallos.\n",
    "    - hay protocolos que me permiten recuperar los ficheros, se llama RDD (Resilient Distributed Dataset) hay 4:\n",
    "        - Spark SQL (consultas)\n",
    "        - Spark streaming (para procesamiento en vivo)\n",
    "        - MLlib (librería de machine learning)\n",
    "        - GraphX (graphs and graph parallell computation)"
   ]
  },
  {
   "cell_type": "code",
   "execution_count": 6,
   "metadata": {},
   "outputs": [],
   "source": [
    "#imports necesarios para apache spark\n",
    "import pyspark as pk\n",
    "from pyspark.context import SparkContext\n",
    "from pyspark.sql.session import SparkSession\n",
    "from pyspark.sql.functions import col \n",
    "from pyspark.sql.types import IntegerType, FloatType "
   ]
  },
  {
   "cell_type": "code",
   "execution_count": null,
   "metadata": {},
   "outputs": [],
   "source": [
    "#datasets disponibles de prueba de dbricks para pyspark\n",
    "dfsample00 =  "
   ]
  }
 ],
 "metadata": {
  "kernelspec": {
   "display_name": "Python 3",
   "language": "python",
   "name": "python3"
  },
  "language_info": {
   "codemirror_mode": {
    "name": "ipython",
    "version": 3
   },
   "file_extension": ".py",
   "mimetype": "text/x-python",
   "name": "python",
   "nbconvert_exporter": "python",
   "pygments_lexer": "ipython3",
   "version": "3.12.0"
  }
 },
 "nbformat": 4,
 "nbformat_minor": 2
}
