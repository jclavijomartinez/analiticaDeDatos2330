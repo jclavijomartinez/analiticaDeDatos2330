{
 "cells": [
  {
   "cell_type": "markdown",
   "metadata": {
    "application/vnd.databricks.v1+cell": {
     "cellMetadata": {
      "byteLimit": 2048000,
      "rowLimit": 10000
     },
     "inputWidgets": {},
     "nuid": "64303609-a9f7-45fa-9af6-d07238a3d69b",
     "showTitle": false,
     "title": ""
    }
   },
   "source": [
    "# Proyecto Final Analítica de Datos\n",
    "##### Hecho por: \n",
    "##### * Juan Sebastián Clavijo Martínez (jclavijomartinez@gmail.com) - PUJ - Ing. en redes y telecomunicaciones\n",
    "##### * Santiago Camacho (santiagocamachov@javeriana.edu.co ) - PUJ - Ing. de sistemas\n",
    "##### * Juan Pablo González (gonzalez-juanp@javeriana.edu.co) - PUJ - Ing. de sistemas <br />\n",
    "**Profesor: Jhon Corredor**<br />\n",
    "Fecha: 14-11-2023<br />\n",
    "Notas: <br />\n",
    "Dataset: Datos de nacimiento de los pueblos de antioquia y chocó del 2009 a 2019 obtenidos de la pagína del DANE e información sobre areas deforestadas en el chocó obtenido de datos.gov.co"
   ]
  },
  {
   "cell_type": "code",
   "execution_count": 35,
   "metadata": {
    "application/vnd.databricks.v1+cell": {
     "cellMetadata": {
      "byteLimit": 2048000,
      "rowLimit": 10000
     },
     "inputWidgets": {},
     "nuid": "709f8002-c58a-4196-958f-d4364db4c444",
     "showTitle": false,
     "title": ""
    }
   },
   "outputs": [],
   "source": [
    "#Se importan las bibliotecas pertinentes para el desarrollo del proyecto\n",
    "import pandas as pd\n",
    "import numpy as np\n",
    "import time ##Para medir rendimiento de los modelos\n",
    "import matplotlib.pyplot as plt \n",
    "import seaborn as sns\n",
    "from sklearn.model_selection import train_test_split\n",
    "from sklearn.tree import DecisionTreeClassifier\n",
    "from sklearn.metrics import accuracy_score, classification_report, confusion_matrix\n",
    "#Se importan las librerías pertinentes de PySpark \n",
    "import pyspark as pk\n",
    "from pyspark.context import SparkContext\n",
    "from pyspark.sql.session import SparkSession\n",
    "from pyspark.sql.functions import col \n",
    "from pyspark.sql.types import IntegerType, FloatType"
   ]
  },
  {
   "cell_type": "code",
   "execution_count": 36,
   "metadata": {
    "application/vnd.databricks.v1+cell": {
     "cellMetadata": {
      "byteLimit": 2048000,
      "rowLimit": 10000
     },
     "inputWidgets": {},
     "nuid": "c45a75b3-a296-4211-95a3-c8aaf9bb2ace",
     "showTitle": false,
     "title": ""
    }
   },
   "outputs": [],
   "source": [
    "#Se crean dos dataframes, uno para cada set de datos. El primero corresponde al set de datos de areas deforestadas en el depaertamento del chocó en Colombia. El segundo corresponde a los datos de nacimiento de algunos municipios en Colombia. \n",
    "areas_deforestadas=pd.read_csv(\"https://raw.githubusercontent.com/jclavijomartinez/analiticaDeDatos2330/master/datos%20proyecto%20final/AREAS_DEFORESTADAS_CHOCO.csv\")\n",
    "# Para el dataframe de nacimientos se carga el archivo CSV especificando el delimitador como punto y coma ya que en el archivo CSV no se utiliza la coma como delimitador sino el ;\n",
    "nacimientos = pd.read_csv(\"https://raw.githubusercontent.com/jclavijomartinez/analiticaDeDatos2330/master/datos%20proyecto%20final/finaldatosnacimientos.csv\", sep=';')\n"
   ]
  },
  {
   "cell_type": "code",
   "execution_count": 37,
   "metadata": {
    "application/vnd.databricks.v1+cell": {
     "cellMetadata": {
      "byteLimit": 2048000,
      "rowLimit": 10000
     },
     "inputWidgets": {},
     "nuid": "97c9059b-ab47-4f7c-a4ff-e34455f4c31a",
     "showTitle": false,
     "title": ""
    }
   },
   "outputs": [
    {
     "name": "stdout",
     "output_type": "stream",
     "text": [
      "<class 'pandas.core.frame.DataFrame'>\n",
      "RangeIndex: 7937 entries, 0 to 7936\n",
      "Data columns (total 10 columns):\n",
      " #   Column          Non-Null Count  Dtype  \n",
      "---  ------          --------------  -----  \n",
      " 0   ID              7937 non-null   int64  \n",
      " 1   TIPO GEOMETRIA  7937 non-null   object \n",
      " 2   AÑO             7937 non-null   int64  \n",
      " 3   IMAGEN          5901 non-null   object \n",
      " 4   CAUSA           7718 non-null   object \n",
      " 5   AREA_Ha         7937 non-null   float64\n",
      " 6   OBSERVACION     7937 non-null   object \n",
      " 7   LATITUD         7930 non-null   object \n",
      " 8   LONGITUD        7930 non-null   object \n",
      " 9   MUNICIPIO       7937 non-null   object \n",
      "dtypes: float64(1), int64(2), object(7)\n",
      "memory usage: 620.2+ KB\n"
     ]
    }
   ],
   "source": [
    "#Se imprime la información del dataframe de areas deforestadas del chocó.\n",
    "areas_deforestadas.info()"
   ]
  },
  {
   "cell_type": "code",
   "execution_count": 38,
   "metadata": {
    "application/vnd.databricks.v1+cell": {
     "cellMetadata": {
      "byteLimit": 2048000,
      "rowLimit": 10000
     },
     "inputWidgets": {},
     "nuid": "7ca536d7-b898-4534-bdf3-9fecd5f37ef4",
     "showTitle": false,
     "title": ""
    }
   },
   "outputs": [
    {
     "name": "stdout",
     "output_type": "stream",
     "text": [
      "<class 'pandas.core.frame.DataFrame'>\n",
      "RangeIndex: 955 entries, 0 to 954\n",
      "Data columns (total 19 columns):\n",
      " #   Column                    Non-Null Count  Dtype  \n",
      "---  ------                    --------------  -----  \n",
      " 0   año                       955 non-null    int64  \n",
      " 1   departamento              955 non-null    object \n",
      " 2   municipio                 955 non-null    object \n",
      " 3   total                     955 non-null    float64\n",
      " 4   total H                   955 non-null    object \n",
      " 5   total M                   955 non-null    float64\n",
      " 6   total indet               955 non-null    object \n",
      " 7   cabecera municipal H      955 non-null    object \n",
      " 8   cabecera municipal M      955 non-null    float64\n",
      " 9   cebecera municipal indet  955 non-null    object \n",
      " 10  centro poblado H          955 non-null    float64\n",
      " 11  centro poblado M          955 non-null    float64\n",
      " 12  centro poblado indet      955 non-null    object \n",
      " 13  rural disperso H          955 non-null    float64\n",
      " 14  rural disperso M          955 non-null    float64\n",
      " 15  rural disperso indet      955 non-null    object \n",
      " 16  sin info H                763 non-null    float64\n",
      " 17  sin info M                763 non-null    float64\n",
      " 18  sin info indet            763 non-null    object \n",
      "dtypes: float64(9), int64(1), object(9)\n",
      "memory usage: 141.9+ KB\n"
     ]
    }
   ],
   "source": [
    "#Se imprime la información del dataframde de nacimientos en los municipios del país.\n",
    "nacimientos.info()"
   ]
  },
  {
   "cell_type": "markdown",
   "metadata": {
    "application/vnd.databricks.v1+cell": {
     "cellMetadata": {
      "byteLimit": 2048000,
      "rowLimit": 10000
     },
     "inputWidgets": {},
     "nuid": "08c20805-c5a9-4290-84b5-47816994ce9c",
     "showTitle": false,
     "title": ""
    }
   },
   "source": [
    "##### OBSERVACIÓN: Se evidencia que en ambos dataframes los valores de las columnas no son los mismos, lo que indica que hay datos duplicados y/o faltantes. A continuación se realizará la limpieza de los datasets teniendo como objetivo eliminar los dataos faltantes y los datos duplicados. "
   ]
  },
  {
   "cell_type": "code",
   "execution_count": 39,
   "metadata": {
    "application/vnd.databricks.v1+cell": {
     "cellMetadata": {
      "byteLimit": 2048000,
      "rowLimit": 10000
     },
     "inputWidgets": {},
     "nuid": "4c362468-688b-4f1c-8a4f-0518cc1a9dbc",
     "showTitle": false,
     "title": ""
    }
   },
   "outputs": [
    {
     "name": "stdout",
     "output_type": "stream",
     "text": [
      "Cantidad de observaciones con Datos NaN 192\n",
      "Cantidad de datos duplicados 0\n"
     ]
    }
   ],
   "source": [
    "##Cuenta de datas null, etc... para el dataframe de nacimientos     \n",
    "desaparecidos = len(nacimientos)-len(nacimientos.dropna())\n",
    "\n",
    "print('Cantidad de observaciones con Datos NaN', desaparecidos)\n",
    "print('Cantidad de datos duplicados', nacimientos.duplicated().sum())"
   ]
  },
  {
   "cell_type": "code",
   "execution_count": 40,
   "metadata": {
    "application/vnd.databricks.v1+cell": {
     "cellMetadata": {
      "byteLimit": 2048000,
      "rowLimit": 10000
     },
     "inputWidgets": {},
     "nuid": "0399768e-40c6-4250-b57e-0c8eb0c6a30a",
     "showTitle": false,
     "title": ""
    }
   },
   "outputs": [
    {
     "name": "stdout",
     "output_type": "stream",
     "text": [
      "Cantidad de observaciones con Datos NaN 2262\n",
      "Cantidad de datos duplicados 0\n"
     ]
    }
   ],
   "source": [
    "##Cuenta de datas null, etc... para el dataframe de areas deforestadas\n",
    "desaparecidos = len(areas_deforestadas)-len(areas_deforestadas.dropna())\n",
    "\n",
    "print('Cantidad de observaciones con Datos NaN', desaparecidos)\n",
    "print('Cantidad de datos duplicados', areas_deforestadas.duplicated().sum())"
   ]
  },
  {
   "cell_type": "code",
   "execution_count": 41,
   "metadata": {
    "application/vnd.databricks.v1+cell": {
     "cellMetadata": {
      "byteLimit": 2048000,
      "rowLimit": 10000
     },
     "inputWidgets": {},
     "nuid": "9470dd05-675e-4681-b508-2760c1de1a8f",
     "showTitle": false,
     "title": ""
    }
   },
   "outputs": [],
   "source": [
    "## Se eliminan los datos Null y Duplicados para ambos dataframes\n",
    "areas_deforestadas.dropna(inplace=True)\n",
    "areas_deforestadas.drop_duplicates(inplace = True)\n",
    "nacimientos.dropna(inplace=True)\n",
    "nacimientos.drop_duplicates(inplace=True)\n",
    "#Se reinicia el indice por los eliminados (duplicados)\n",
    "areas_deforestadas.reset_index(drop = True, inplace = True)\n",
    "nacimientos.reset_index(drop = True, inplace = True)"
   ]
  },
  {
   "cell_type": "code",
   "execution_count": 42,
   "metadata": {
    "application/vnd.databricks.v1+cell": {
     "cellMetadata": {
      "byteLimit": 2048000,
      "rowLimit": 10000
     },
     "inputWidgets": {},
     "nuid": "a5d15909-b006-4e19-b41a-078806daf246",
     "showTitle": false,
     "title": ""
    }
   },
   "outputs": [
    {
     "name": "stdout",
     "output_type": "stream",
     "text": [
      "<class 'pandas.core.frame.DataFrame'>\n",
      "RangeIndex: 763 entries, 0 to 762\n",
      "Data columns (total 19 columns):\n",
      " #   Column                    Non-Null Count  Dtype  \n",
      "---  ------                    --------------  -----  \n",
      " 0   año                       763 non-null    int64  \n",
      " 1   departamento              763 non-null    object \n",
      " 2   municipio                 763 non-null    object \n",
      " 3   total                     763 non-null    float64\n",
      " 4   total H                   763 non-null    object \n",
      " 5   total M                   763 non-null    float64\n",
      " 6   total indet               763 non-null    object \n",
      " 7   cabecera municipal H      763 non-null    object \n",
      " 8   cabecera municipal M      763 non-null    float64\n",
      " 9   cebecera municipal indet  763 non-null    object \n",
      " 10  centro poblado H          763 non-null    float64\n",
      " 11  centro poblado M          763 non-null    float64\n",
      " 12  centro poblado indet      763 non-null    object \n",
      " 13  rural disperso H          763 non-null    float64\n",
      " 14  rural disperso M          763 non-null    float64\n",
      " 15  rural disperso indet      763 non-null    object \n",
      " 16  sin info H                763 non-null    float64\n",
      " 17  sin info M                763 non-null    float64\n",
      " 18  sin info indet            763 non-null    object \n",
      "dtypes: float64(9), int64(1), object(9)\n",
      "memory usage: 113.4+ KB\n"
     ]
    }
   ],
   "source": [
    "#Se imprime la nueva información del dataset de nacimientos por municipio\n",
    "nacimientos.info()"
   ]
  },
  {
   "cell_type": "code",
   "execution_count": 43,
   "metadata": {
    "application/vnd.databricks.v1+cell": {
     "cellMetadata": {
      "byteLimit": 2048000,
      "rowLimit": 10000
     },
     "inputWidgets": {},
     "nuid": "1d733c1b-2569-4183-9fdc-dd24d8b7f391",
     "showTitle": false,
     "title": ""
    }
   },
   "outputs": [
    {
     "name": "stdout",
     "output_type": "stream",
     "text": [
      "<class 'pandas.core.frame.DataFrame'>\n",
      "RangeIndex: 5675 entries, 0 to 5674\n",
      "Data columns (total 10 columns):\n",
      " #   Column          Non-Null Count  Dtype  \n",
      "---  ------          --------------  -----  \n",
      " 0   ID              5675 non-null   int64  \n",
      " 1   TIPO GEOMETRIA  5675 non-null   object \n",
      " 2   AÑO             5675 non-null   int64  \n",
      " 3   IMAGEN          5675 non-null   object \n",
      " 4   CAUSA           5675 non-null   object \n",
      " 5   AREA_Ha         5675 non-null   float64\n",
      " 6   OBSERVACION     5675 non-null   object \n",
      " 7   LATITUD         5675 non-null   object \n",
      " 8   LONGITUD        5675 non-null   object \n",
      " 9   MUNICIPIO       5675 non-null   object \n",
      "dtypes: float64(1), int64(2), object(7)\n",
      "memory usage: 443.5+ KB\n"
     ]
    }
   ],
   "source": [
    "#Se imprime la nueva información del dataset de areas deforestadas\n",
    "areas_deforestadas.info()"
   ]
  },
  {
   "cell_type": "markdown",
   "metadata": {
    "application/vnd.databricks.v1+cell": {
     "cellMetadata": {
      "byteLimit": 2048000,
      "rowLimit": 10000
     },
     "inputWidgets": {},
     "nuid": "5331ed6a-af84-4ff3-8e0d-75068e4ffd07",
     "showTitle": false,
     "title": ""
    }
   },
   "source": [
    "##### OBSERVACIÓN: Se evidencia que se eliminaron los registros duplicados y valores faltantes para ambos datasets. Es decir, todas las columnas de ambos datasets tienen exactamente el mismo número de registros. "
   ]
  },
  {
   "cell_type": "markdown",
   "metadata": {
    "application/vnd.databricks.v1+cell": {
     "cellMetadata": {
      "byteLimit": 2048000,
      "rowLimit": 10000
     },
     "inputWidgets": {},
     "nuid": "2bf866e7-c89b-458f-8b97-f6157ef920bc",
     "showTitle": false,
     "title": ""
    }
   },
   "source": [
    "##### nota: se cambiarán los nombres de algunas columnas de los datasets para que cumplan con el estándar PEP8"
   ]
  },
  {
   "cell_type": "code",
   "execution_count": 44,
   "metadata": {
    "application/vnd.databricks.v1+cell": {
     "cellMetadata": {
      "byteLimit": 2048000,
      "rowLimit": 10000
     },
     "inputWidgets": {},
     "nuid": "8cef5366-6e81-4c8b-9fed-7be7ef9ee404",
     "showTitle": false,
     "title": ""
    }
   },
   "outputs": [],
   "source": [
    "#Se cambian los nombres de ciertas columnas para que cumplan el estándar PEP8\n",
    "areas_deforestadas = areas_deforestadas.rename(columns={'TIPO GEOMETRIA': 'TIPO_GEOMETRIA'})\n",
    "nacimientos = nacimientos.rename(columns={'total H': 'total_H'})\n",
    "nacimientos = nacimientos.rename(columns={'total M': 'total_M'})\n",
    "nacimientos = nacimientos.rename(columns={'total indet': 'total_indet'})\n",
    "nacimientos = nacimientos.rename(columns={'cabecera municipal H': 'cabecera_municipal_H'})\n",
    "nacimientos = nacimientos.rename(columns={'cabecera municipal M': 'cabecera_municipal_M'})\n",
    "nacimientos = nacimientos.rename(columns={'cebecera municipal indet': 'cabecera_municipal_indet'})\n",
    "nacimientos = nacimientos.rename(columns={'centro poblado H': 'centro_poblado_H'})\n",
    "nacimientos = nacimientos.rename(columns={'centro poblado M': 'centro_poblado_M'})\n",
    "nacimientos = nacimientos.rename(columns={'centro poblado indet': 'centro_poblado_indet'})\n",
    "nacimientos = nacimientos.rename(columns={'rural disperso H': 'rural_disperso_H'})\n",
    "nacimientos = nacimientos.rename(columns={'rural disperso M': 'rural_disperso_M'})\n",
    "nacimientos = nacimientos.rename(columns={'rural disperso indet': 'rural_disperso_indet'})\n",
    "nacimientos = nacimientos.rename(columns={'sin info H': 'sin_info_H'})\n",
    "nacimientos = nacimientos.rename(columns={'sin info M': 'sin_info_M'})\n",
    "nacimientos = nacimientos.rename(columns={'sin info indet': 'sin_info_indet'})\n",
    "\n",
    "\n"
   ]
  },
  {
   "cell_type": "code",
   "execution_count": 45,
   "metadata": {
    "application/vnd.databricks.v1+cell": {
     "cellMetadata": {
      "byteLimit": 2048000,
      "rowLimit": 10000
     },
     "inputWidgets": {},
     "nuid": "aaeb3ee4-9e21-4ca9-a8f5-e02d11957ede",
     "showTitle": false,
     "title": ""
    }
   },
   "outputs": [
    {
     "name": "stdout",
     "output_type": "stream",
     "text": [
      "<class 'pandas.core.frame.DataFrame'>\n",
      "RangeIndex: 5675 entries, 0 to 5674\n",
      "Data columns (total 10 columns):\n",
      " #   Column          Non-Null Count  Dtype  \n",
      "---  ------          --------------  -----  \n",
      " 0   ID              5675 non-null   int64  \n",
      " 1   TIPO_GEOMETRIA  5675 non-null   object \n",
      " 2   AÑO             5675 non-null   int64  \n",
      " 3   IMAGEN          5675 non-null   object \n",
      " 4   CAUSA           5675 non-null   object \n",
      " 5   AREA_Ha         5675 non-null   float64\n",
      " 6   OBSERVACION     5675 non-null   object \n",
      " 7   LATITUD         5675 non-null   object \n",
      " 8   LONGITUD        5675 non-null   object \n",
      " 9   MUNICIPIO       5675 non-null   object \n",
      "dtypes: float64(1), int64(2), object(7)\n",
      "memory usage: 443.5+ KB\n"
     ]
    }
   ],
   "source": [
    "#Se imprime la nueva información del dataset de areas deforestadas\n",
    "areas_deforestadas.info()"
   ]
  },
  {
   "cell_type": "code",
   "execution_count": 46,
   "metadata": {
    "application/vnd.databricks.v1+cell": {
     "cellMetadata": {
      "byteLimit": 2048000,
      "rowLimit": 10000
     },
     "inputWidgets": {},
     "nuid": "16d4b068-2760-43aa-97db-c1877cc13c8b",
     "showTitle": false,
     "title": ""
    }
   },
   "outputs": [
    {
     "name": "stdout",
     "output_type": "stream",
     "text": [
      "<class 'pandas.core.frame.DataFrame'>\n",
      "RangeIndex: 763 entries, 0 to 762\n",
      "Data columns (total 19 columns):\n",
      " #   Column                    Non-Null Count  Dtype  \n",
      "---  ------                    --------------  -----  \n",
      " 0   año                       763 non-null    int64  \n",
      " 1   departamento              763 non-null    object \n",
      " 2   municipio                 763 non-null    object \n",
      " 3   total                     763 non-null    float64\n",
      " 4   total_H                   763 non-null    object \n",
      " 5   total_M                   763 non-null    float64\n",
      " 6   total_indet               763 non-null    object \n",
      " 7   cabecera_municipal_H      763 non-null    object \n",
      " 8   cabecera_municipal_M      763 non-null    float64\n",
      " 9   cabecera_municipal_indet  763 non-null    object \n",
      " 10  centro_poblado_H          763 non-null    float64\n",
      " 11  centro_poblado_M          763 non-null    float64\n",
      " 12  centro_poblado_indet      763 non-null    object \n",
      " 13  rural_disperso_H          763 non-null    float64\n",
      " 14  rural_disperso_M          763 non-null    float64\n",
      " 15  rural_disperso_indet      763 non-null    object \n",
      " 16  sin_info_H                763 non-null    float64\n",
      " 17  sin_info_M                763 non-null    float64\n",
      " 18  sin_info_indet            763 non-null    object \n",
      "dtypes: float64(9), int64(1), object(9)\n",
      "memory usage: 113.4+ KB\n"
     ]
    }
   ],
   "source": [
    "#Se imprime la nueva información del dataset de nacimientos\n",
    "nacimientos.info()"
   ]
  },
  {
   "cell_type": "markdown",
   "metadata": {
    "application/vnd.databricks.v1+cell": {
     "cellMetadata": {},
     "inputWidgets": {},
     "nuid": "22f78156-329f-41d6-ac29-baab3ef97f6f",
     "showTitle": false,
     "title": ""
    }
   },
   "source": [
    "Se imprimen los primeros 15 registros de cada dataframe"
   ]
  },
  {
   "cell_type": "code",
   "execution_count": 47,
   "metadata": {
    "application/vnd.databricks.v1+cell": {
     "cellMetadata": {
      "byteLimit": 2048000,
      "rowLimit": 10000
     },
     "inputWidgets": {},
     "nuid": "749de17b-66a7-4a54-addd-3239bf8cb4de",
     "showTitle": false,
     "title": ""
    }
   },
   "outputs": [
    {
     "data": {
      "text/html": [
       "<div>\n",
       "<style scoped>\n",
       "    .dataframe tbody tr th:only-of-type {\n",
       "        vertical-align: middle;\n",
       "    }\n",
       "\n",
       "    .dataframe tbody tr th {\n",
       "        vertical-align: top;\n",
       "    }\n",
       "\n",
       "    .dataframe thead th {\n",
       "        text-align: right;\n",
       "    }\n",
       "</style>\n",
       "<table border=\"1\" class=\"dataframe\">\n",
       "  <thead>\n",
       "    <tr style=\"text-align: right;\">\n",
       "      <th></th>\n",
       "      <th>año</th>\n",
       "      <th>departamento</th>\n",
       "      <th>municipio</th>\n",
       "      <th>total</th>\n",
       "      <th>total_H</th>\n",
       "      <th>total_M</th>\n",
       "      <th>total_indet</th>\n",
       "      <th>cabecera_municipal_H</th>\n",
       "      <th>cabecera_municipal_M</th>\n",
       "      <th>cabecera_municipal_indet</th>\n",
       "      <th>centro_poblado_H</th>\n",
       "      <th>centro_poblado_M</th>\n",
       "      <th>centro_poblado_indet</th>\n",
       "      <th>rural_disperso_H</th>\n",
       "      <th>rural_disperso_M</th>\n",
       "      <th>rural_disperso_indet</th>\n",
       "      <th>sin_info_H</th>\n",
       "      <th>sin_info_M</th>\n",
       "      <th>sin_info_indet</th>\n",
       "    </tr>\n",
       "  </thead>\n",
       "  <tbody>\n",
       "    <tr>\n",
       "      <th>0</th>\n",
       "      <td>2009</td>\n",
       "      <td>antioquia</td>\n",
       "      <td>total</td>\n",
       "      <td>85.955</td>\n",
       "      <td>44.173</td>\n",
       "      <td>41.782</td>\n",
       "      <td>0,00</td>\n",
       "      <td>33.222</td>\n",
       "      <td>31.279</td>\n",
       "      <td>0,00</td>\n",
       "      <td>3.249</td>\n",
       "      <td>3.032</td>\n",
       "      <td>0,00</td>\n",
       "      <td>6.393</td>\n",
       "      <td>6.137</td>\n",
       "      <td>0,00</td>\n",
       "      <td>1.309</td>\n",
       "      <td>1.334</td>\n",
       "      <td>0,00</td>\n",
       "    </tr>\n",
       "    <tr>\n",
       "      <th>1</th>\n",
       "      <td>2009</td>\n",
       "      <td>antioquia</td>\n",
       "      <td>MEDELLÍN</td>\n",
       "      <td>31.893</td>\n",
       "      <td>16.334</td>\n",
       "      <td>15.559</td>\n",
       "      <td>0,00</td>\n",
       "      <td>15.871</td>\n",
       "      <td>15.141</td>\n",
       "      <td>0,00</td>\n",
       "      <td>210.000</td>\n",
       "      <td>208.000</td>\n",
       "      <td>0,00</td>\n",
       "      <td>126.000</td>\n",
       "      <td>101.000</td>\n",
       "      <td>0,00</td>\n",
       "      <td>127.000</td>\n",
       "      <td>109.000</td>\n",
       "      <td>0,00</td>\n",
       "    </tr>\n",
       "    <tr>\n",
       "      <th>2</th>\n",
       "      <td>2009</td>\n",
       "      <td>antioquia</td>\n",
       "      <td>ABEJORRAL</td>\n",
       "      <td>271.000</td>\n",
       "      <td>137</td>\n",
       "      <td>134.000</td>\n",
       "      <td>0,00</td>\n",
       "      <td>50</td>\n",
       "      <td>43.000</td>\n",
       "      <td>0,00</td>\n",
       "      <td>9.000</td>\n",
       "      <td>5.000</td>\n",
       "      <td>0,00</td>\n",
       "      <td>67.000</td>\n",
       "      <td>74.000</td>\n",
       "      <td>0,00</td>\n",
       "      <td>11.000</td>\n",
       "      <td>12.000</td>\n",
       "      <td>0,00</td>\n",
       "    </tr>\n",
       "    <tr>\n",
       "      <th>3</th>\n",
       "      <td>2009</td>\n",
       "      <td>antioquia</td>\n",
       "      <td>ABRIAQUÍ</td>\n",
       "      <td>21.000</td>\n",
       "      <td>11</td>\n",
       "      <td>10.000</td>\n",
       "      <td>0,00</td>\n",
       "      <td>4</td>\n",
       "      <td>6.000</td>\n",
       "      <td>0,00</td>\n",
       "      <td>1.000</td>\n",
       "      <td>1.000</td>\n",
       "      <td>0,00</td>\n",
       "      <td>6.000</td>\n",
       "      <td>3.000</td>\n",
       "      <td>0,00</td>\n",
       "      <td>0.000</td>\n",
       "      <td>0.000</td>\n",
       "      <td>0,00</td>\n",
       "    </tr>\n",
       "    <tr>\n",
       "      <th>4</th>\n",
       "      <td>2009</td>\n",
       "      <td>antioquia</td>\n",
       "      <td>ALEJANDRÍA</td>\n",
       "      <td>44.000</td>\n",
       "      <td>17</td>\n",
       "      <td>27.000</td>\n",
       "      <td>0,00</td>\n",
       "      <td>4</td>\n",
       "      <td>14.000</td>\n",
       "      <td>0,00</td>\n",
       "      <td>0.000</td>\n",
       "      <td>0.000</td>\n",
       "      <td>0,00</td>\n",
       "      <td>13.000</td>\n",
       "      <td>11.000</td>\n",
       "      <td>0,00</td>\n",
       "      <td>0.000</td>\n",
       "      <td>2.000</td>\n",
       "      <td>0,00</td>\n",
       "    </tr>\n",
       "  </tbody>\n",
       "</table>\n",
       "</div>"
      ],
      "text/plain": [
       "    año departamento   municipio    total total_H  total_M total_indet  \\\n",
       "0  2009    antioquia       total   85.955  44.173   41.782        0,00   \n",
       "1  2009    antioquia    MEDELLÍN   31.893  16.334   15.559        0,00   \n",
       "2  2009    antioquia   ABEJORRAL  271.000     137  134.000        0,00   \n",
       "3  2009    antioquia    ABRIAQUÍ   21.000      11   10.000        0,00   \n",
       "4  2009    antioquia  ALEJANDRÍA   44.000      17   27.000        0,00   \n",
       "\n",
       "  cabecera_municipal_H  cabecera_municipal_M cabecera_municipal_indet  \\\n",
       "0               33.222                31.279                     0,00   \n",
       "1               15.871                15.141                     0,00   \n",
       "2                   50                43.000                     0,00   \n",
       "3                    4                 6.000                     0,00   \n",
       "4                    4                14.000                     0,00   \n",
       "\n",
       "   centro_poblado_H  centro_poblado_M centro_poblado_indet  rural_disperso_H  \\\n",
       "0             3.249             3.032                 0,00             6.393   \n",
       "1           210.000           208.000                 0,00           126.000   \n",
       "2             9.000             5.000                 0,00            67.000   \n",
       "3             1.000             1.000                 0,00             6.000   \n",
       "4             0.000             0.000                 0,00            13.000   \n",
       "\n",
       "   rural_disperso_M rural_disperso_indet  sin_info_H  sin_info_M  \\\n",
       "0             6.137                 0,00       1.309       1.334   \n",
       "1           101.000                 0,00     127.000     109.000   \n",
       "2            74.000                 0,00      11.000      12.000   \n",
       "3             3.000                 0,00       0.000       0.000   \n",
       "4            11.000                 0,00       0.000       2.000   \n",
       "\n",
       "  sin_info_indet  \n",
       "0           0,00  \n",
       "1           0,00  \n",
       "2           0,00  \n",
       "3           0,00  \n",
       "4           0,00  "
      ]
     },
     "execution_count": 47,
     "metadata": {},
     "output_type": "execute_result"
    }
   ],
   "source": [
    "nacimientos.head(5)"
   ]
  },
  {
   "cell_type": "code",
   "execution_count": 48,
   "metadata": {
    "application/vnd.databricks.v1+cell": {
     "cellMetadata": {
      "byteLimit": 2048000,
      "rowLimit": 10000
     },
     "inputWidgets": {},
     "nuid": "2bf8db0b-d742-45fd-b41d-d96f88e220dd",
     "showTitle": false,
     "title": ""
    }
   },
   "outputs": [
    {
     "data": {
      "text/html": [
       "<div>\n",
       "<style scoped>\n",
       "    .dataframe tbody tr th:only-of-type {\n",
       "        vertical-align: middle;\n",
       "    }\n",
       "\n",
       "    .dataframe tbody tr th {\n",
       "        vertical-align: top;\n",
       "    }\n",
       "\n",
       "    .dataframe thead th {\n",
       "        text-align: right;\n",
       "    }\n",
       "</style>\n",
       "<table border=\"1\" class=\"dataframe\">\n",
       "  <thead>\n",
       "    <tr style=\"text-align: right;\">\n",
       "      <th></th>\n",
       "      <th>ID</th>\n",
       "      <th>TIPO_GEOMETRIA</th>\n",
       "      <th>AÑO</th>\n",
       "      <th>IMAGEN</th>\n",
       "      <th>CAUSA</th>\n",
       "      <th>AREA_Ha</th>\n",
       "      <th>OBSERVACION</th>\n",
       "      <th>LATITUD</th>\n",
       "      <th>LONGITUD</th>\n",
       "      <th>MUNICIPIO</th>\n",
       "    </tr>\n",
       "  </thead>\n",
       "  <tbody>\n",
       "    <tr>\n",
       "      <th>0</th>\n",
       "      <td>7463</td>\n",
       "      <td>Polygon</td>\n",
       "      <td>2020</td>\n",
       "      <td>T18PTQ_20200201T153611_TCI_10m.jp2 - T18PTQ_20...</td>\n",
       "      <td>Cultivo</td>\n",
       "      <td>0.126512</td>\n",
       "      <td>Ninguna</td>\n",
       "      <td>8° 22' 43,726\" N</td>\n",
       "      <td>77° 14' 19,019\" W</td>\n",
       "      <td>ACANDÍ</td>\n",
       "    </tr>\n",
       "    <tr>\n",
       "      <th>1</th>\n",
       "      <td>4659</td>\n",
       "      <td>Polygon</td>\n",
       "      <td>2019</td>\n",
       "      <td>T18PTQ_20190527T153621_TCI_10m.jp2 - T18PTQ_20...</td>\n",
       "      <td>Cultivo</td>\n",
       "      <td>0.140720</td>\n",
       "      <td>Ninguna</td>\n",
       "      <td>8° 30' 47,551\" N</td>\n",
       "      <td>77° 19' 30,507\" W</td>\n",
       "      <td>ACANDÍ</td>\n",
       "    </tr>\n",
       "    <tr>\n",
       "      <th>2</th>\n",
       "      <td>7459</td>\n",
       "      <td>Polygon</td>\n",
       "      <td>2020</td>\n",
       "      <td>T18PTQ_20200112T153611_TCI_10m.jp2 - T18PTQ_20...</td>\n",
       "      <td>Cultivo</td>\n",
       "      <td>0.141250</td>\n",
       "      <td>Ninguna</td>\n",
       "      <td>8° 22' 30,966\" N</td>\n",
       "      <td>77° 13' 49,720\" W</td>\n",
       "      <td>ACANDÍ</td>\n",
       "    </tr>\n",
       "    <tr>\n",
       "      <th>3</th>\n",
       "      <td>9719</td>\n",
       "      <td>Polygon</td>\n",
       "      <td>2021</td>\n",
       "      <td>T18PTQ_20201202T153619_TCI_10m.jp2 - T18PTQ_20...</td>\n",
       "      <td>Cultivo</td>\n",
       "      <td>0.158066</td>\n",
       "      <td>Ninguna</td>\n",
       "      <td>8° 36' 11.256\" N</td>\n",
       "      <td>77° 20' 50.757\" W</td>\n",
       "      <td>ACANDÍ</td>\n",
       "    </tr>\n",
       "    <tr>\n",
       "      <th>4</th>\n",
       "      <td>7464</td>\n",
       "      <td>Polygon</td>\n",
       "      <td>2020</td>\n",
       "      <td>T18PTQ_20200201T153611_TCI_10m.jp2 - T18PTQ_20...</td>\n",
       "      <td>Cultivo</td>\n",
       "      <td>0.184549</td>\n",
       "      <td>Ninguna</td>\n",
       "      <td>8° 22' 22,008\" N</td>\n",
       "      <td>77° 14' 3,921\" W</td>\n",
       "      <td>ACANDÍ</td>\n",
       "    </tr>\n",
       "  </tbody>\n",
       "</table>\n",
       "</div>"
      ],
      "text/plain": [
       "     ID TIPO_GEOMETRIA   AÑO  \\\n",
       "0  7463        Polygon  2020   \n",
       "1  4659        Polygon  2019   \n",
       "2  7459        Polygon  2020   \n",
       "3  9719        Polygon  2021   \n",
       "4  7464        Polygon  2020   \n",
       "\n",
       "                                              IMAGEN    CAUSA   AREA_Ha  \\\n",
       "0  T18PTQ_20200201T153611_TCI_10m.jp2 - T18PTQ_20...  Cultivo  0.126512   \n",
       "1  T18PTQ_20190527T153621_TCI_10m.jp2 - T18PTQ_20...  Cultivo  0.140720   \n",
       "2  T18PTQ_20200112T153611_TCI_10m.jp2 - T18PTQ_20...  Cultivo  0.141250   \n",
       "3  T18PTQ_20201202T153619_TCI_10m.jp2 - T18PTQ_20...  Cultivo  0.158066   \n",
       "4  T18PTQ_20200201T153611_TCI_10m.jp2 - T18PTQ_20...  Cultivo  0.184549   \n",
       "\n",
       "  OBSERVACION           LATITUD           LONGITUD MUNICIPIO  \n",
       "0     Ninguna  8° 22' 43,726\" N  77° 14' 19,019\" W    ACANDÍ  \n",
       "1     Ninguna  8° 30' 47,551\" N  77° 19' 30,507\" W    ACANDÍ  \n",
       "2     Ninguna  8° 22' 30,966\" N  77° 13' 49,720\" W    ACANDÍ  \n",
       "3     Ninguna  8° 36' 11.256\" N  77° 20' 50.757\" W    ACANDÍ  \n",
       "4     Ninguna  8° 22' 22,008\" N   77° 14' 3,921\" W    ACANDÍ  "
      ]
     },
     "execution_count": 48,
     "metadata": {},
     "output_type": "execute_result"
    }
   ],
   "source": [
    "areas_deforestadas.head(5)"
   ]
  },
  {
   "cell_type": "code",
   "execution_count": 49,
   "metadata": {
    "application/vnd.databricks.v1+cell": {
     "cellMetadata": {},
     "inputWidgets": {},
     "nuid": "f23a9e17-93d2-46a2-8126-387891e467af",
     "showTitle": false,
     "title": ""
    }
   },
   "outputs": [
    {
     "data": {
      "text/html": [
       "<div>\n",
       "<style scoped>\n",
       "    .dataframe tbody tr th:only-of-type {\n",
       "        vertical-align: middle;\n",
       "    }\n",
       "\n",
       "    .dataframe tbody tr th {\n",
       "        vertical-align: top;\n",
       "    }\n",
       "\n",
       "    .dataframe thead th {\n",
       "        text-align: right;\n",
       "    }\n",
       "</style>\n",
       "<table border=\"1\" class=\"dataframe\">\n",
       "  <thead>\n",
       "    <tr style=\"text-align: right;\">\n",
       "      <th></th>\n",
       "      <th>año</th>\n",
       "      <th>departamento</th>\n",
       "      <th>municipio</th>\n",
       "      <th>total</th>\n",
       "      <th>total_H</th>\n",
       "      <th>total_M</th>\n",
       "      <th>total_indet</th>\n",
       "      <th>cabecera_municipal_H</th>\n",
       "      <th>cabecera_municipal_M</th>\n",
       "      <th>cabecera_municipal_indet</th>\n",
       "      <th>centro_poblado_H</th>\n",
       "      <th>centro_poblado_M</th>\n",
       "      <th>centro_poblado_indet</th>\n",
       "      <th>rural_disperso_H</th>\n",
       "      <th>rural_disperso_M</th>\n",
       "      <th>rural_disperso_indet</th>\n",
       "      <th>sin_info_H</th>\n",
       "      <th>sin_info_M</th>\n",
       "      <th>sin_info_indet</th>\n",
       "    </tr>\n",
       "  </thead>\n",
       "  <tbody>\n",
       "    <tr>\n",
       "      <th>75</th>\n",
       "      <td>2009</td>\n",
       "      <td>antioquia</td>\n",
       "      <td>NECHÍ</td>\n",
       "      <td>595.0</td>\n",
       "      <td>322</td>\n",
       "      <td>273.0</td>\n",
       "      <td>0,00</td>\n",
       "      <td>179</td>\n",
       "      <td>142.0</td>\n",
       "      <td>0,00</td>\n",
       "      <td>26.0</td>\n",
       "      <td>27.0</td>\n",
       "      <td>0,00</td>\n",
       "      <td>94.0</td>\n",
       "      <td>74.0</td>\n",
       "      <td>0,00</td>\n",
       "      <td>23.0</td>\n",
       "      <td>30.0</td>\n",
       "      <td>0,00</td>\n",
       "    </tr>\n",
       "    <tr>\n",
       "      <th>125</th>\n",
       "      <td>2009</td>\n",
       "      <td>antioquia</td>\n",
       "      <td>ZARAGOZA</td>\n",
       "      <td>581.0</td>\n",
       "      <td>315</td>\n",
       "      <td>266.0</td>\n",
       "      <td>0,00</td>\n",
       "      <td>180</td>\n",
       "      <td>151.0</td>\n",
       "      <td>0,00</td>\n",
       "      <td>19.0</td>\n",
       "      <td>18.0</td>\n",
       "      <td>0,00</td>\n",
       "      <td>93.0</td>\n",
       "      <td>74.0</td>\n",
       "      <td>0,00</td>\n",
       "      <td>23.0</td>\n",
       "      <td>23.0</td>\n",
       "      <td>0,00</td>\n",
       "    </tr>\n",
       "    <tr>\n",
       "      <th>656</th>\n",
       "      <td>2009</td>\n",
       "      <td>choco</td>\n",
       "      <td>NÓVITA</td>\n",
       "      <td>48.0</td>\n",
       "      <td>21</td>\n",
       "      <td>27.0</td>\n",
       "      <td>0</td>\n",
       "      <td>16</td>\n",
       "      <td>16.0</td>\n",
       "      <td>0</td>\n",
       "      <td>1.0</td>\n",
       "      <td>5.0</td>\n",
       "      <td>0</td>\n",
       "      <td>4.0</td>\n",
       "      <td>2.0</td>\n",
       "      <td>0</td>\n",
       "      <td>0.0</td>\n",
       "      <td>4.0</td>\n",
       "      <td>0</td>\n",
       "    </tr>\n",
       "    <tr>\n",
       "      <th>720</th>\n",
       "      <td>2011</td>\n",
       "      <td>choco</td>\n",
       "      <td>NÓVITA</td>\n",
       "      <td>48.0</td>\n",
       "      <td>21</td>\n",
       "      <td>27.0</td>\n",
       "      <td>0</td>\n",
       "      <td>16</td>\n",
       "      <td>16.0</td>\n",
       "      <td>0</td>\n",
       "      <td>1.0</td>\n",
       "      <td>5.0</td>\n",
       "      <td>0</td>\n",
       "      <td>4.0</td>\n",
       "      <td>2.0</td>\n",
       "      <td>0</td>\n",
       "      <td>0.0</td>\n",
       "      <td>4.0</td>\n",
       "      <td>0</td>\n",
       "    </tr>\n",
       "    <tr>\n",
       "      <th>752</th>\n",
       "      <td>2013</td>\n",
       "      <td>choco</td>\n",
       "      <td>NÓVITA</td>\n",
       "      <td>48.0</td>\n",
       "      <td>21</td>\n",
       "      <td>27.0</td>\n",
       "      <td>0</td>\n",
       "      <td>16</td>\n",
       "      <td>16.0</td>\n",
       "      <td>0</td>\n",
       "      <td>1.0</td>\n",
       "      <td>5.0</td>\n",
       "      <td>0</td>\n",
       "      <td>4.0</td>\n",
       "      <td>2.0</td>\n",
       "      <td>0</td>\n",
       "      <td>0.0</td>\n",
       "      <td>4.0</td>\n",
       "      <td>0</td>\n",
       "    </tr>\n",
       "  </tbody>\n",
       "</table>\n",
       "</div>"
      ],
      "text/plain": [
       "      año departamento municipio  total total_H  total_M total_indet  \\\n",
       "75   2009    antioquia     NECHÍ  595.0     322    273.0        0,00   \n",
       "125  2009    antioquia  ZARAGOZA  581.0     315    266.0        0,00   \n",
       "656  2009        choco    NÓVITA   48.0      21     27.0           0   \n",
       "720  2011        choco    NÓVITA   48.0      21     27.0           0   \n",
       "752  2013        choco    NÓVITA   48.0      21     27.0           0   \n",
       "\n",
       "    cabecera_municipal_H  cabecera_municipal_M cabecera_municipal_indet  \\\n",
       "75                   179                 142.0                     0,00   \n",
       "125                  180                 151.0                     0,00   \n",
       "656                   16                  16.0                        0   \n",
       "720                   16                  16.0                        0   \n",
       "752                   16                  16.0                        0   \n",
       "\n",
       "     centro_poblado_H  centro_poblado_M centro_poblado_indet  \\\n",
       "75               26.0              27.0                 0,00   \n",
       "125              19.0              18.0                 0,00   \n",
       "656               1.0               5.0                    0   \n",
       "720               1.0               5.0                    0   \n",
       "752               1.0               5.0                    0   \n",
       "\n",
       "     rural_disperso_H  rural_disperso_M rural_disperso_indet  sin_info_H  \\\n",
       "75               94.0              74.0                 0,00        23.0   \n",
       "125              93.0              74.0                 0,00        23.0   \n",
       "656               4.0               2.0                    0         0.0   \n",
       "720               4.0               2.0                    0         0.0   \n",
       "752               4.0               2.0                    0         0.0   \n",
       "\n",
       "     sin_info_M sin_info_indet  \n",
       "75         30.0           0,00  \n",
       "125        23.0           0,00  \n",
       "656         4.0              0  \n",
       "720         4.0              0  \n",
       "752         4.0              0  "
      ]
     },
     "execution_count": 49,
     "metadata": {},
     "output_type": "execute_result"
    }
   ],
   "source": [
    "# ya que los dfs están listos para ser usados, \n",
    "# se crea uno nuevo con la información de los pueblos a ser evaluados, se va a usar primero arboles de desicion como modelo de ML, \n",
    "# se vizualiza la informacion del nuevo df con los datos refinados\n",
    "municipios_interes=['ZARAGOZA','NECHÍ','NÓVITA']\n",
    "df_seleccion = nacimientos[nacimientos['municipio'].isin(municipios_interes)]\n",
    "df_seleccion.head(5)"
   ]
  },
  {
   "cell_type": "code",
   "execution_count": 50,
   "metadata": {},
   "outputs": [],
   "source": [
    "# se asignan las caracrerísticas y el objetivo (variable a predecir)\n",
    "caracteristicas = ['departamento','total_H','total_M','total_indet']\n",
    "objetivo = 'total'\n",
    "X  = df_seleccion[caracteristicas]\n",
    "y = df_seleccion[objetivo]"
   ]
  },
  {
   "cell_type": "code",
   "execution_count": 51,
   "metadata": {},
   "outputs": [],
   "source": [
    "#se divide el conjunto en datos de entrenamiento y prueba\n",
    "X_train, X_test, y_train, y_test = train_test_split(X, y, test_size=0.2, random_state=42)"
   ]
  },
  {
   "cell_type": "code",
   "execution_count": 52,
   "metadata": {},
   "outputs": [
    {
     "ename": "ValueError",
     "evalue": "could not convert string to float: 'choco'",
     "output_type": "error",
     "traceback": [
      "\u001b[1;31m---------------------------------------------------------------------------\u001b[0m",
      "\u001b[1;31mValueError\u001b[0m                                Traceback (most recent call last)",
      "\u001b[1;32m~\\AppData\\Local\\Temp\\ipykernel_8608\\3585364899.py\u001b[0m in \u001b[0;36m?\u001b[1;34m()\u001b[0m\n\u001b[0;32m      1\u001b[0m \u001b[1;31m# Creamos el modelo\u001b[0m\u001b[1;33m\u001b[0m\u001b[1;33m\u001b[0m\u001b[0m\n\u001b[0;32m      2\u001b[0m \u001b[0mmodelo_arbol\u001b[0m \u001b[1;33m=\u001b[0m \u001b[0mDecisionTreeClassifier\u001b[0m\u001b[1;33m(\u001b[0m\u001b[0mrandom_state\u001b[0m\u001b[1;33m=\u001b[0m\u001b[1;36m42\u001b[0m\u001b[1;33m)\u001b[0m\u001b[1;33m\u001b[0m\u001b[1;33m\u001b[0m\u001b[0m\n\u001b[0;32m      3\u001b[0m \u001b[1;33m\u001b[0m\u001b[0m\n\u001b[0;32m      4\u001b[0m \u001b[1;31m# Entrenamos el modelo\u001b[0m\u001b[1;33m\u001b[0m\u001b[1;33m\u001b[0m\u001b[0m\n\u001b[1;32m----> 5\u001b[1;33m \u001b[0mmodelo_arbol\u001b[0m\u001b[1;33m.\u001b[0m\u001b[0mfit\u001b[0m\u001b[1;33m(\u001b[0m\u001b[0mX_train\u001b[0m\u001b[1;33m,\u001b[0m \u001b[0my_train\u001b[0m\u001b[1;33m)\u001b[0m\u001b[1;33m\u001b[0m\u001b[1;33m\u001b[0m\u001b[0m\n\u001b[0m",
      "\u001b[1;32m~\\AppData\\Roaming\\Python\\Python312\\site-packages\\sklearn\\base.py\u001b[0m in \u001b[0;36m?\u001b[1;34m(estimator, *args, **kwargs)\u001b[0m\n\u001b[0;32m   1148\u001b[0m                 skip_parameter_validation=(\n\u001b[0;32m   1149\u001b[0m                     \u001b[0mprefer_skip_nested_validation\u001b[0m \u001b[1;32mor\u001b[0m \u001b[0mglobal_skip_validation\u001b[0m\u001b[1;33m\u001b[0m\u001b[1;33m\u001b[0m\u001b[0m\n\u001b[0;32m   1150\u001b[0m                 \u001b[1;33m)\u001b[0m\u001b[1;33m\u001b[0m\u001b[1;33m\u001b[0m\u001b[0m\n\u001b[0;32m   1151\u001b[0m             \u001b[1;33m)\u001b[0m\u001b[1;33m:\u001b[0m\u001b[1;33m\u001b[0m\u001b[1;33m\u001b[0m\u001b[0m\n\u001b[1;32m-> 1152\u001b[1;33m                 \u001b[1;32mreturn\u001b[0m \u001b[0mfit_method\u001b[0m\u001b[1;33m(\u001b[0m\u001b[0mestimator\u001b[0m\u001b[1;33m,\u001b[0m \u001b[1;33m*\u001b[0m\u001b[0margs\u001b[0m\u001b[1;33m,\u001b[0m \u001b[1;33m**\u001b[0m\u001b[0mkwargs\u001b[0m\u001b[1;33m)\u001b[0m\u001b[1;33m\u001b[0m\u001b[1;33m\u001b[0m\u001b[0m\n\u001b[0m",
      "\u001b[1;32m~\\AppData\\Roaming\\Python\\Python312\\site-packages\\sklearn\\tree\\_classes.py\u001b[0m in \u001b[0;36m?\u001b[1;34m(self, X, y, sample_weight, check_input)\u001b[0m\n\u001b[0;32m    955\u001b[0m         \u001b[0mself\u001b[0m \u001b[1;33m:\u001b[0m \u001b[0mDecisionTreeClassifier\u001b[0m\u001b[1;33m\u001b[0m\u001b[1;33m\u001b[0m\u001b[0m\n\u001b[0;32m    956\u001b[0m             \u001b[0mFitted\u001b[0m \u001b[0mestimator\u001b[0m\u001b[1;33m.\u001b[0m\u001b[1;33m\u001b[0m\u001b[1;33m\u001b[0m\u001b[0m\n\u001b[0;32m    957\u001b[0m         \"\"\"\n\u001b[0;32m    958\u001b[0m \u001b[1;33m\u001b[0m\u001b[0m\n\u001b[1;32m--> 959\u001b[1;33m         super()._fit(\n\u001b[0m\u001b[0;32m    960\u001b[0m             \u001b[0mX\u001b[0m\u001b[1;33m,\u001b[0m\u001b[1;33m\u001b[0m\u001b[1;33m\u001b[0m\u001b[0m\n\u001b[0;32m    961\u001b[0m             \u001b[0my\u001b[0m\u001b[1;33m,\u001b[0m\u001b[1;33m\u001b[0m\u001b[1;33m\u001b[0m\u001b[0m\n\u001b[0;32m    962\u001b[0m             \u001b[0msample_weight\u001b[0m\u001b[1;33m=\u001b[0m\u001b[0msample_weight\u001b[0m\u001b[1;33m,\u001b[0m\u001b[1;33m\u001b[0m\u001b[1;33m\u001b[0m\u001b[0m\n",
      "\u001b[1;32m~\\AppData\\Roaming\\Python\\Python312\\site-packages\\sklearn\\tree\\_classes.py\u001b[0m in \u001b[0;36m?\u001b[1;34m(self, X, y, sample_weight, check_input, missing_values_in_feature_mask)\u001b[0m\n\u001b[0;32m    238\u001b[0m             check_X_params = dict(\n\u001b[0;32m    239\u001b[0m                 \u001b[0mdtype\u001b[0m\u001b[1;33m=\u001b[0m\u001b[0mDTYPE\u001b[0m\u001b[1;33m,\u001b[0m \u001b[0maccept_sparse\u001b[0m\u001b[1;33m=\u001b[0m\u001b[1;34m\"csc\"\u001b[0m\u001b[1;33m,\u001b[0m \u001b[0mforce_all_finite\u001b[0m\u001b[1;33m=\u001b[0m\u001b[1;32mFalse\u001b[0m\u001b[1;33m\u001b[0m\u001b[1;33m\u001b[0m\u001b[0m\n\u001b[0;32m    240\u001b[0m             \u001b[1;33m)\u001b[0m\u001b[1;33m\u001b[0m\u001b[1;33m\u001b[0m\u001b[0m\n\u001b[0;32m    241\u001b[0m             \u001b[0mcheck_y_params\u001b[0m \u001b[1;33m=\u001b[0m \u001b[0mdict\u001b[0m\u001b[1;33m(\u001b[0m\u001b[0mensure_2d\u001b[0m\u001b[1;33m=\u001b[0m\u001b[1;32mFalse\u001b[0m\u001b[1;33m,\u001b[0m \u001b[0mdtype\u001b[0m\u001b[1;33m=\u001b[0m\u001b[1;32mNone\u001b[0m\u001b[1;33m)\u001b[0m\u001b[1;33m\u001b[0m\u001b[1;33m\u001b[0m\u001b[0m\n\u001b[1;32m--> 242\u001b[1;33m             X, y = self._validate_data(\n\u001b[0m\u001b[0;32m    243\u001b[0m                 \u001b[0mX\u001b[0m\u001b[1;33m,\u001b[0m \u001b[0my\u001b[0m\u001b[1;33m,\u001b[0m \u001b[0mvalidate_separately\u001b[0m\u001b[1;33m=\u001b[0m\u001b[1;33m(\u001b[0m\u001b[0mcheck_X_params\u001b[0m\u001b[1;33m,\u001b[0m \u001b[0mcheck_y_params\u001b[0m\u001b[1;33m)\u001b[0m\u001b[1;33m\u001b[0m\u001b[1;33m\u001b[0m\u001b[0m\n\u001b[0;32m    244\u001b[0m             \u001b[1;33m)\u001b[0m\u001b[1;33m\u001b[0m\u001b[1;33m\u001b[0m\u001b[0m\n\u001b[0;32m    245\u001b[0m \u001b[1;33m\u001b[0m\u001b[0m\n",
      "\u001b[1;32m~\\AppData\\Roaming\\Python\\Python312\\site-packages\\sklearn\\base.py\u001b[0m in \u001b[0;36m?\u001b[1;34m(self, X, y, reset, validate_separately, cast_to_ndarray, **check_params)\u001b[0m\n\u001b[0;32m    613\u001b[0m                 \u001b[1;31m# :(\u001b[0m\u001b[1;33m\u001b[0m\u001b[1;33m\u001b[0m\u001b[0m\n\u001b[0;32m    614\u001b[0m                 \u001b[0mcheck_X_params\u001b[0m\u001b[1;33m,\u001b[0m \u001b[0mcheck_y_params\u001b[0m \u001b[1;33m=\u001b[0m \u001b[0mvalidate_separately\u001b[0m\u001b[1;33m\u001b[0m\u001b[1;33m\u001b[0m\u001b[0m\n\u001b[0;32m    615\u001b[0m                 \u001b[1;32mif\u001b[0m \u001b[1;34m\"estimator\"\u001b[0m \u001b[1;32mnot\u001b[0m \u001b[1;32min\u001b[0m \u001b[0mcheck_X_params\u001b[0m\u001b[1;33m:\u001b[0m\u001b[1;33m\u001b[0m\u001b[1;33m\u001b[0m\u001b[0m\n\u001b[0;32m    616\u001b[0m                     \u001b[0mcheck_X_params\u001b[0m \u001b[1;33m=\u001b[0m \u001b[1;33m{\u001b[0m\u001b[1;33m**\u001b[0m\u001b[0mdefault_check_params\u001b[0m\u001b[1;33m,\u001b[0m \u001b[1;33m**\u001b[0m\u001b[0mcheck_X_params\u001b[0m\u001b[1;33m}\u001b[0m\u001b[1;33m\u001b[0m\u001b[1;33m\u001b[0m\u001b[0m\n\u001b[1;32m--> 617\u001b[1;33m                 \u001b[0mX\u001b[0m \u001b[1;33m=\u001b[0m \u001b[0mcheck_array\u001b[0m\u001b[1;33m(\u001b[0m\u001b[0mX\u001b[0m\u001b[1;33m,\u001b[0m \u001b[0minput_name\u001b[0m\u001b[1;33m=\u001b[0m\u001b[1;34m\"X\"\u001b[0m\u001b[1;33m,\u001b[0m \u001b[1;33m**\u001b[0m\u001b[0mcheck_X_params\u001b[0m\u001b[1;33m)\u001b[0m\u001b[1;33m\u001b[0m\u001b[1;33m\u001b[0m\u001b[0m\n\u001b[0m\u001b[0;32m    618\u001b[0m                 \u001b[1;32mif\u001b[0m \u001b[1;34m\"estimator\"\u001b[0m \u001b[1;32mnot\u001b[0m \u001b[1;32min\u001b[0m \u001b[0mcheck_y_params\u001b[0m\u001b[1;33m:\u001b[0m\u001b[1;33m\u001b[0m\u001b[1;33m\u001b[0m\u001b[0m\n\u001b[0;32m    619\u001b[0m                     \u001b[0mcheck_y_params\u001b[0m \u001b[1;33m=\u001b[0m \u001b[1;33m{\u001b[0m\u001b[1;33m**\u001b[0m\u001b[0mdefault_check_params\u001b[0m\u001b[1;33m,\u001b[0m \u001b[1;33m**\u001b[0m\u001b[0mcheck_y_params\u001b[0m\u001b[1;33m}\u001b[0m\u001b[1;33m\u001b[0m\u001b[1;33m\u001b[0m\u001b[0m\n\u001b[0;32m    620\u001b[0m                 \u001b[0my\u001b[0m \u001b[1;33m=\u001b[0m \u001b[0mcheck_array\u001b[0m\u001b[1;33m(\u001b[0m\u001b[0my\u001b[0m\u001b[1;33m,\u001b[0m \u001b[0minput_name\u001b[0m\u001b[1;33m=\u001b[0m\u001b[1;34m\"y\"\u001b[0m\u001b[1;33m,\u001b[0m \u001b[1;33m**\u001b[0m\u001b[0mcheck_y_params\u001b[0m\u001b[1;33m)\u001b[0m\u001b[1;33m\u001b[0m\u001b[1;33m\u001b[0m\u001b[0m\n",
      "\u001b[1;32m~\\AppData\\Roaming\\Python\\Python312\\site-packages\\sklearn\\utils\\validation.py\u001b[0m in \u001b[0;36m?\u001b[1;34m(array, accept_sparse, accept_large_sparse, dtype, order, copy, force_all_finite, ensure_2d, allow_nd, ensure_min_samples, ensure_min_features, estimator, input_name)\u001b[0m\n\u001b[0;32m    912\u001b[0m                         \u001b[1;33m)\u001b[0m\u001b[1;33m\u001b[0m\u001b[1;33m\u001b[0m\u001b[0m\n\u001b[0;32m    913\u001b[0m                     \u001b[0marray\u001b[0m \u001b[1;33m=\u001b[0m \u001b[0mxp\u001b[0m\u001b[1;33m.\u001b[0m\u001b[0mastype\u001b[0m\u001b[1;33m(\u001b[0m\u001b[0marray\u001b[0m\u001b[1;33m,\u001b[0m \u001b[0mdtype\u001b[0m\u001b[1;33m,\u001b[0m \u001b[0mcopy\u001b[0m\u001b[1;33m=\u001b[0m\u001b[1;32mFalse\u001b[0m\u001b[1;33m)\u001b[0m\u001b[1;33m\u001b[0m\u001b[1;33m\u001b[0m\u001b[0m\n\u001b[0;32m    914\u001b[0m                 \u001b[1;32melse\u001b[0m\u001b[1;33m:\u001b[0m\u001b[1;33m\u001b[0m\u001b[1;33m\u001b[0m\u001b[0m\n\u001b[0;32m    915\u001b[0m                     \u001b[0marray\u001b[0m \u001b[1;33m=\u001b[0m \u001b[0m_asarray_with_order\u001b[0m\u001b[1;33m(\u001b[0m\u001b[0marray\u001b[0m\u001b[1;33m,\u001b[0m \u001b[0morder\u001b[0m\u001b[1;33m=\u001b[0m\u001b[0morder\u001b[0m\u001b[1;33m,\u001b[0m \u001b[0mdtype\u001b[0m\u001b[1;33m=\u001b[0m\u001b[0mdtype\u001b[0m\u001b[1;33m,\u001b[0m \u001b[0mxp\u001b[0m\u001b[1;33m=\u001b[0m\u001b[0mxp\u001b[0m\u001b[1;33m)\u001b[0m\u001b[1;33m\u001b[0m\u001b[1;33m\u001b[0m\u001b[0m\n\u001b[1;32m--> 916\u001b[1;33m             \u001b[1;32mexcept\u001b[0m \u001b[0mComplexWarning\u001b[0m \u001b[1;32mas\u001b[0m \u001b[0mcomplex_warning\u001b[0m\u001b[1;33m:\u001b[0m\u001b[1;33m\u001b[0m\u001b[1;33m\u001b[0m\u001b[0m\n\u001b[0m\u001b[0;32m    917\u001b[0m                 raise ValueError(\n\u001b[0;32m    918\u001b[0m                     \u001b[1;34m\"Complex data not supported\\n{}\\n\"\u001b[0m\u001b[1;33m.\u001b[0m\u001b[0mformat\u001b[0m\u001b[1;33m(\u001b[0m\u001b[0marray\u001b[0m\u001b[1;33m)\u001b[0m\u001b[1;33m\u001b[0m\u001b[1;33m\u001b[0m\u001b[0m\n\u001b[0;32m    919\u001b[0m                 \u001b[1;33m)\u001b[0m \u001b[1;32mfrom\u001b[0m \u001b[0mcomplex_warning\u001b[0m\u001b[1;33m\u001b[0m\u001b[1;33m\u001b[0m\u001b[0m\n",
      "\u001b[1;32m~\\AppData\\Roaming\\Python\\Python312\\site-packages\\sklearn\\utils\\_array_api.py\u001b[0m in \u001b[0;36m?\u001b[1;34m(array, dtype, order, copy, xp)\u001b[0m\n\u001b[0;32m    376\u001b[0m         \u001b[1;31m# Use NumPy API to support order\u001b[0m\u001b[1;33m\u001b[0m\u001b[1;33m\u001b[0m\u001b[0m\n\u001b[0;32m    377\u001b[0m         \u001b[1;32mif\u001b[0m \u001b[0mcopy\u001b[0m \u001b[1;32mis\u001b[0m \u001b[1;32mTrue\u001b[0m\u001b[1;33m:\u001b[0m\u001b[1;33m\u001b[0m\u001b[1;33m\u001b[0m\u001b[0m\n\u001b[0;32m    378\u001b[0m             \u001b[0marray\u001b[0m \u001b[1;33m=\u001b[0m \u001b[0mnumpy\u001b[0m\u001b[1;33m.\u001b[0m\u001b[0marray\u001b[0m\u001b[1;33m(\u001b[0m\u001b[0marray\u001b[0m\u001b[1;33m,\u001b[0m \u001b[0morder\u001b[0m\u001b[1;33m=\u001b[0m\u001b[0morder\u001b[0m\u001b[1;33m,\u001b[0m \u001b[0mdtype\u001b[0m\u001b[1;33m=\u001b[0m\u001b[0mdtype\u001b[0m\u001b[1;33m)\u001b[0m\u001b[1;33m\u001b[0m\u001b[1;33m\u001b[0m\u001b[0m\n\u001b[0;32m    379\u001b[0m         \u001b[1;32melse\u001b[0m\u001b[1;33m:\u001b[0m\u001b[1;33m\u001b[0m\u001b[1;33m\u001b[0m\u001b[0m\n\u001b[1;32m--> 380\u001b[1;33m             \u001b[0marray\u001b[0m \u001b[1;33m=\u001b[0m \u001b[0mnumpy\u001b[0m\u001b[1;33m.\u001b[0m\u001b[0masarray\u001b[0m\u001b[1;33m(\u001b[0m\u001b[0marray\u001b[0m\u001b[1;33m,\u001b[0m \u001b[0morder\u001b[0m\u001b[1;33m=\u001b[0m\u001b[0morder\u001b[0m\u001b[1;33m,\u001b[0m \u001b[0mdtype\u001b[0m\u001b[1;33m=\u001b[0m\u001b[0mdtype\u001b[0m\u001b[1;33m)\u001b[0m\u001b[1;33m\u001b[0m\u001b[1;33m\u001b[0m\u001b[0m\n\u001b[0m\u001b[0;32m    381\u001b[0m \u001b[1;33m\u001b[0m\u001b[0m\n\u001b[0;32m    382\u001b[0m         \u001b[1;31m# At this point array is a NumPy ndarray. We convert it to an array\u001b[0m\u001b[1;33m\u001b[0m\u001b[1;33m\u001b[0m\u001b[0m\n\u001b[0;32m    383\u001b[0m         \u001b[1;31m# container that is consistent with the input's namespace.\u001b[0m\u001b[1;33m\u001b[0m\u001b[1;33m\u001b[0m\u001b[0m\n",
      "\u001b[1;32m~\\AppData\\Roaming\\Python\\Python312\\site-packages\\pandas\\core\\generic.py\u001b[0m in \u001b[0;36m?\u001b[1;34m(self, dtype)\u001b[0m\n\u001b[0;32m   2082\u001b[0m     \u001b[1;32mdef\u001b[0m \u001b[0m__array__\u001b[0m\u001b[1;33m(\u001b[0m\u001b[0mself\u001b[0m\u001b[1;33m,\u001b[0m \u001b[0mdtype\u001b[0m\u001b[1;33m:\u001b[0m \u001b[0mnpt\u001b[0m\u001b[1;33m.\u001b[0m\u001b[0mDTypeLike\u001b[0m \u001b[1;33m|\u001b[0m \u001b[1;32mNone\u001b[0m \u001b[1;33m=\u001b[0m \u001b[1;32mNone\u001b[0m\u001b[1;33m)\u001b[0m \u001b[1;33m->\u001b[0m \u001b[0mnp\u001b[0m\u001b[1;33m.\u001b[0m\u001b[0mndarray\u001b[0m\u001b[1;33m:\u001b[0m\u001b[1;33m\u001b[0m\u001b[1;33m\u001b[0m\u001b[0m\n\u001b[0;32m   2083\u001b[0m         \u001b[0mvalues\u001b[0m \u001b[1;33m=\u001b[0m \u001b[0mself\u001b[0m\u001b[1;33m.\u001b[0m\u001b[0m_values\u001b[0m\u001b[1;33m\u001b[0m\u001b[1;33m\u001b[0m\u001b[0m\n\u001b[1;32m-> 2084\u001b[1;33m         \u001b[0marr\u001b[0m \u001b[1;33m=\u001b[0m \u001b[0mnp\u001b[0m\u001b[1;33m.\u001b[0m\u001b[0masarray\u001b[0m\u001b[1;33m(\u001b[0m\u001b[0mvalues\u001b[0m\u001b[1;33m,\u001b[0m \u001b[0mdtype\u001b[0m\u001b[1;33m=\u001b[0m\u001b[0mdtype\u001b[0m\u001b[1;33m)\u001b[0m\u001b[1;33m\u001b[0m\u001b[1;33m\u001b[0m\u001b[0m\n\u001b[0m\u001b[0;32m   2085\u001b[0m         if (\n\u001b[0;32m   2086\u001b[0m             \u001b[0mastype_is_view\u001b[0m\u001b[1;33m(\u001b[0m\u001b[0mvalues\u001b[0m\u001b[1;33m.\u001b[0m\u001b[0mdtype\u001b[0m\u001b[1;33m,\u001b[0m \u001b[0marr\u001b[0m\u001b[1;33m.\u001b[0m\u001b[0mdtype\u001b[0m\u001b[1;33m)\u001b[0m\u001b[1;33m\u001b[0m\u001b[1;33m\u001b[0m\u001b[0m\n\u001b[0;32m   2087\u001b[0m             \u001b[1;32mand\u001b[0m \u001b[0musing_copy_on_write\u001b[0m\u001b[1;33m(\u001b[0m\u001b[1;33m)\u001b[0m\u001b[1;33m\u001b[0m\u001b[1;33m\u001b[0m\u001b[0m\n",
      "\u001b[1;31mValueError\u001b[0m: could not convert string to float: 'choco'"
     ]
    }
   ],
   "source": [
    "# Creamos el modelo\n",
    "modelo_arbol = DecisionTreeClassifier(random_state=42)\n",
    "\n",
    "# Entrenamos el modelo\n",
    "modelo_arbol.fit(X_train, y_train)"
   ]
  },
  {
   "cell_type": "code",
   "execution_count": null,
   "metadata": {},
   "outputs": [],
   "source": [
    "# Hacemos predicciones en el conjunto de prueba\n",
    "predicciones = modelo_arbol.predict(X_test)"
   ]
  },
  {
   "cell_type": "code",
   "execution_count": null,
   "metadata": {},
   "outputs": [],
   "source": [
    "# Evaluamos la precisión\n",
    "precision = accuracy_score(y_test, predicciones)\n",
    "print(f\"Precisión del modelo: {precision}\")\n",
    "\n",
    "# Mostramos la matriz de confusión\n",
    "matriz_confusion = confusion_matrix(y_test, predicciones)\n",
    "print(\"Matriz de Confusión:\")\n",
    "print(matriz_confusion)\n",
    "\n",
    "# Mostramos el reporte de clasificación\n",
    "reporte_clasificacion = classification_report(y_test, predicciones)\n",
    "print(\"Reporte de Clasificación:\")\n",
    "print(reporte_clasificacion)"
   ]
  }
 ],
 "metadata": {
  "application/vnd.databricks.v1+notebook": {
   "dashboards": [],
   "language": "python",
   "notebookMetadata": {
    "pythonIndentUnit": 4
   },
   "notebookName": "Proyecto Analítica Clavijo Camacho González",
   "widgets": {}
  },
  "kernelspec": {
   "display_name": "Python 3",
   "language": "python",
   "name": "python3"
  },
  "language_info": {
   "codemirror_mode": {
    "name": "ipython",
    "version": 3
   },
   "file_extension": ".py",
   "mimetype": "text/x-python",
   "name": "python",
   "nbconvert_exporter": "python",
   "pygments_lexer": "ipython3",
   "version": "3.12.0"
  }
 },
 "nbformat": 4,
 "nbformat_minor": 0
}
