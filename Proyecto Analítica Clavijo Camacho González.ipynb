{
 "cells": [
  {
   "cell_type": "markdown",
   "metadata": {
    "application/vnd.databricks.v1+cell": {
     "cellMetadata": {
      "byteLimit": 2048000,
      "rowLimit": 10000
     },
     "inputWidgets": {},
     "nuid": "64303609-a9f7-45fa-9af6-d07238a3d69b",
     "showTitle": false,
     "title": ""
    }
   },
   "source": [
    "### Proyecto Final Analítica de Datos\n",
    "Pontificia Universidad Javeriana\n",
    "\n",
    "Facultad de Ingeniería\n",
    "\n",
    "Departamento de Ingeniería de Sistemas\n",
    "\n",
    "\n",
    "Autores: Juan Clavijo, Santiago Camacho, Juan González\n",
    "\n",
    "Bogotá. Noviembre del 2023"
   ]
  },
  {
   "cell_type": "code",
   "execution_count": null,
   "metadata": {
    "application/vnd.databricks.v1+cell": {
     "cellMetadata": {
      "byteLimit": 2048000,
      "rowLimit": 10000
     },
     "inputWidgets": {},
     "nuid": "709f8002-c58a-4196-958f-d4364db4c444",
     "showTitle": false,
     "title": ""
    }
   },
   "outputs": [],
   "source": [
    "#Se importan las bibliotecas pertinentes para el desarrollo del proyecto\n",
    "import pandas as pd\n",
    "import numpy as np\n",
    "import time ##Para medir rendimiento de los modelos\n",
    "import matplotlib.pyplot as plt \n",
    "import seaborn as sns\n",
    "#Se importan las librerías pertinentes de PySpark \n",
    "import pyspark as pk\n",
    "from pyspark.context import SparkContext\n",
    "from pyspark.sql.session import SparkSession\n",
    "from pyspark.sql.functions import col \n",
    "from pyspark.sql.types import IntegerType, FloatType"
   ]
  },
  {
   "cell_type": "code",
   "execution_count": null,
   "metadata": {
    "application/vnd.databricks.v1+cell": {
     "cellMetadata": {
      "byteLimit": 2048000,
      "rowLimit": 10000
     },
     "inputWidgets": {},
     "nuid": "c45a75b3-a296-4211-95a3-c8aaf9bb2ace",
     "showTitle": false,
     "title": ""
    }
   },
   "outputs": [],
   "source": [
    "#Se crean dos dataframes, uno para cada set de datos. El primero corresponde al set de datos de areas deforestadas en el depaertamento del chocó en Colombia. El segundo corresponde a los datos de nacimiento de algunos municipios en Colombia. \n",
    "areas_deforestadas=pd.read_csv(\"https://raw.githubusercontent.com/jclavijomartinez/analiticaDeDatos2330/master/datos%20proyecto%20final/AREAS_DEFORESTADAS_CHOCO.csv\")\n",
    "# Para el dataframe de nacimientos se carga el archivo CSV especificando el delimitador como punto y coma ya que en el archivo CSV no se utiliza la coma como delimitador sino el ;\n",
    "nacimientos = pd.read_csv(\"https://raw.githubusercontent.com/jclavijomartinez/analiticaDeDatos2330/master/datos%20proyecto%20final/finaldatosnacimientos.csv\", sep=';')\n"
   ]
  },
  {
   "cell_type": "code",
   "execution_count": null,
   "metadata": {
    "application/vnd.databricks.v1+cell": {
     "cellMetadata": {
      "byteLimit": 2048000,
      "rowLimit": 10000
     },
     "inputWidgets": {},
     "nuid": "97c9059b-ab47-4f7c-a4ff-e34455f4c31a",
     "showTitle": false,
     "title": ""
    }
   },
   "outputs": [
    {
     "name": "stdout",
     "output_type": "stream",
     "text": [
      "<class 'pandas.core.frame.DataFrame'>\n",
      "RangeIndex: 7937 entries, 0 to 7936\n",
      "Data columns (total 10 columns):\n",
      " #   Column          Non-Null Count  Dtype  \n",
      "---  ------          --------------  -----  \n",
      " 0   ID              7937 non-null   int64  \n",
      " 1   TIPO GEOMETRIA  7937 non-null   object \n",
      " 2   AÑO             7937 non-null   int64  \n",
      " 3   IMAGEN          5901 non-null   object \n",
      " 4   CAUSA           7718 non-null   object \n",
      " 5   AREA_Ha         7937 non-null   float64\n",
      " 6   OBSERVACION     7937 non-null   object \n",
      " 7   LATITUD         7930 non-null   object \n",
      " 8   LONGITUD        7930 non-null   object \n",
      " 9   MUNICIPIO       7937 non-null   object \n",
      "dtypes: float64(1), int64(2), object(7)\n",
      "memory usage: 620.2+ KB\n"
     ]
    }
   ],
   "source": [
    "#Se imprime la información del dataframe de areas deforestadas del chocó.\n",
    "areas_deforestadas.info()"
   ]
  },
  {
   "cell_type": "code",
   "execution_count": null,
   "metadata": {
    "application/vnd.databricks.v1+cell": {
     "cellMetadata": {
      "byteLimit": 2048000,
      "rowLimit": 10000
     },
     "inputWidgets": {},
     "nuid": "7ca536d7-b898-4534-bdf3-9fecd5f37ef4",
     "showTitle": false,
     "title": ""
    }
   },
   "outputs": [
    {
     "name": "stdout",
     "output_type": "stream",
     "text": [
      "<class 'pandas.core.frame.DataFrame'>\n",
      "RangeIndex: 955 entries, 0 to 954\n",
      "Data columns (total 19 columns):\n",
      " #   Column                    Non-Null Count  Dtype  \n",
      "---  ------                    --------------  -----  \n",
      " 0   año                       955 non-null    int64  \n",
      " 1   departamento              955 non-null    object \n",
      " 2   municipio                 955 non-null    object \n",
      " 3   total                     955 non-null    float64\n",
      " 4   total H                   955 non-null    object \n",
      " 5   total M                   955 non-null    float64\n",
      " 6   total indet               955 non-null    object \n",
      " 7   cabecera municipal H      955 non-null    object \n",
      " 8   cabecera municipal M      955 non-null    float64\n",
      " 9   cebecera municipal indet  955 non-null    object \n",
      " 10  centro poblado H          955 non-null    float64\n",
      " 11  centro poblado M          955 non-null    float64\n",
      " 12  centro poblado indet      955 non-null    object \n",
      " 13  rural disperso H          955 non-null    float64\n",
      " 14  rural disperso M          955 non-null    float64\n",
      " 15  rural disperso indet      955 non-null    object \n",
      " 16  sin info H                763 non-null    float64\n",
      " 17  sin info M                763 non-null    float64\n",
      " 18  sin info indet            763 non-null    object \n",
      "dtypes: float64(9), int64(1), object(9)\n",
      "memory usage: 141.9+ KB\n"
     ]
    }
   ],
   "source": [
    "#Se imprime la información del dataframde de nacimientos en los municipios del país.\n",
    "nacimientos.info()"
   ]
  },
  {
   "cell_type": "markdown",
   "metadata": {
    "application/vnd.databricks.v1+cell": {
     "cellMetadata": {
      "byteLimit": 2048000,
      "rowLimit": 10000
     },
     "inputWidgets": {},
     "nuid": "08c20805-c5a9-4290-84b5-47816994ce9c",
     "showTitle": false,
     "title": ""
    }
   },
   "source": [
    "### Se evidencia que en ambos dataframes los valores de las columnas no son los mismos, lo que indica que hay datos duplicados y/o faltantes. A continuación se realizará la limpieza de los datasets teniendo como objetivo eliminar los dataos faltantes y los datos duplicados. "
   ]
  },
  {
   "cell_type": "code",
   "execution_count": null,
   "metadata": {
    "application/vnd.databricks.v1+cell": {
     "cellMetadata": {
      "byteLimit": 2048000,
      "rowLimit": 10000
     },
     "inputWidgets": {},
     "nuid": "4c362468-688b-4f1c-8a4f-0518cc1a9dbc",
     "showTitle": false,
     "title": ""
    }
   },
   "outputs": [
    {
     "name": "stdout",
     "output_type": "stream",
     "text": [
      "Cantidad de observaciones con Datos NaN 192\n",
      "Cantidad de datos duplicados 0\n"
     ]
    }
   ],
   "source": [
    "##Cuenta de datas null, etc... para el dataframe de nacimientos     \n",
    "desaparecidos = len(nacimientos)-len(nacimientos.dropna())\n",
    "\n",
    "print('Cantidad de observaciones con Datos NaN', desaparecidos)\n",
    "print('Cantidad de datos duplicados', nacimientos.duplicated().sum())"
   ]
  },
  {
   "cell_type": "code",
   "execution_count": null,
   "metadata": {
    "application/vnd.databricks.v1+cell": {
     "cellMetadata": {
      "byteLimit": 2048000,
      "rowLimit": 10000
     },
     "inputWidgets": {},
     "nuid": "0399768e-40c6-4250-b57e-0c8eb0c6a30a",
     "showTitle": false,
     "title": ""
    }
   },
   "outputs": [
    {
     "name": "stdout",
     "output_type": "stream",
     "text": [
      "Cantidad de observaciones con Datos NaN 2262\n",
      "Cantidad de datos duplicados 0\n"
     ]
    }
   ],
   "source": [
    "##Cuenta de datas null, etc... para el dataframe de areas deforestadas\n",
    "desaparecidos = len(areas_deforestadas)-len(areas_deforestadas.dropna())\n",
    "\n",
    "print('Cantidad de observaciones con Datos NaN', desaparecidos)\n",
    "print('Cantidad de datos duplicados', areas_deforestadas.duplicated().sum())"
   ]
  },
  {
   "cell_type": "code",
   "execution_count": null,
   "metadata": {
    "application/vnd.databricks.v1+cell": {
     "cellMetadata": {
      "byteLimit": 2048000,
      "rowLimit": 10000
     },
     "inputWidgets": {},
     "nuid": "9470dd05-675e-4681-b508-2760c1de1a8f",
     "showTitle": false,
     "title": ""
    }
   },
   "outputs": [],
   "source": [
    "## Se eliminan los datos Null y Duplicados para ambos dataframes\n",
    "areas_deforestadas.dropna(inplace=True)\n",
    "areas_deforestadas.drop_duplicates(inplace = True)\n",
    "nacimientos.dropna(inplace=True)\n",
    "nacimientos.drop_duplicates(inplace=True)\n",
    "#Se reinicia el indice por los eliminados (duplicados)\n",
    "areas_deforestadas.reset_index(drop = True, inplace = True)\n",
    "nacimientos.reset_index(drop = True, inplace = True)"
   ]
  },
  {
   "cell_type": "code",
   "execution_count": null,
   "metadata": {
    "application/vnd.databricks.v1+cell": {
     "cellMetadata": {
      "byteLimit": 2048000,
      "rowLimit": 10000
     },
     "inputWidgets": {},
     "nuid": "a5d15909-b006-4e19-b41a-078806daf246",
     "showTitle": false,
     "title": ""
    }
   },
   "outputs": [
    {
     "name": "stdout",
     "output_type": "stream",
     "text": [
      "<class 'pandas.core.frame.DataFrame'>\n",
      "RangeIndex: 763 entries, 0 to 762\n",
      "Data columns (total 19 columns):\n",
      " #   Column                    Non-Null Count  Dtype  \n",
      "---  ------                    --------------  -----  \n",
      " 0   año                       763 non-null    int64  \n",
      " 1   departamento              763 non-null    object \n",
      " 2   municipio                 763 non-null    object \n",
      " 3   total                     763 non-null    float64\n",
      " 4   total H                   763 non-null    object \n",
      " 5   total M                   763 non-null    float64\n",
      " 6   total indet               763 non-null    object \n",
      " 7   cabecera municipal H      763 non-null    object \n",
      " 8   cabecera municipal M      763 non-null    float64\n",
      " 9   cebecera municipal indet  763 non-null    object \n",
      " 10  centro poblado H          763 non-null    float64\n",
      " 11  centro poblado M          763 non-null    float64\n",
      " 12  centro poblado indet      763 non-null    object \n",
      " 13  rural disperso H          763 non-null    float64\n",
      " 14  rural disperso M          763 non-null    float64\n",
      " 15  rural disperso indet      763 non-null    object \n",
      " 16  sin info H                763 non-null    float64\n",
      " 17  sin info M                763 non-null    float64\n",
      " 18  sin info indet            763 non-null    object \n",
      "dtypes: float64(9), int64(1), object(9)\n",
      "memory usage: 113.4+ KB\n"
     ]
    }
   ],
   "source": [
    "#Se imprime la nueva información del dataset de nacimientos por municipio\n",
    "nacimientos.info()"
   ]
  },
  {
   "cell_type": "code",
   "execution_count": null,
   "metadata": {
    "application/vnd.databricks.v1+cell": {
     "cellMetadata": {
      "byteLimit": 2048000,
      "rowLimit": 10000
     },
     "inputWidgets": {},
     "nuid": "1d733c1b-2569-4183-9fdc-dd24d8b7f391",
     "showTitle": false,
     "title": ""
    }
   },
   "outputs": [
    {
     "name": "stdout",
     "output_type": "stream",
     "text": [
      "<class 'pandas.core.frame.DataFrame'>\n",
      "RangeIndex: 5675 entries, 0 to 5674\n",
      "Data columns (total 10 columns):\n",
      " #   Column          Non-Null Count  Dtype  \n",
      "---  ------          --------------  -----  \n",
      " 0   ID              5675 non-null   int64  \n",
      " 1   TIPO GEOMETRIA  5675 non-null   object \n",
      " 2   AÑO             5675 non-null   int64  \n",
      " 3   IMAGEN          5675 non-null   object \n",
      " 4   CAUSA           5675 non-null   object \n",
      " 5   AREA_Ha         5675 non-null   float64\n",
      " 6   OBSERVACION     5675 non-null   object \n",
      " 7   LATITUD         5675 non-null   object \n",
      " 8   LONGITUD        5675 non-null   object \n",
      " 9   MUNICIPIO       5675 non-null   object \n",
      "dtypes: float64(1), int64(2), object(7)\n",
      "memory usage: 443.5+ KB\n"
     ]
    }
   ],
   "source": [
    "#Se imprime la nueva información del dataset de areas deforestadas\n",
    "areas_deforestadas.info()"
   ]
  },
  {
   "cell_type": "markdown",
   "metadata": {
    "application/vnd.databricks.v1+cell": {
     "cellMetadata": {
      "byteLimit": 2048000,
      "rowLimit": 10000
     },
     "inputWidgets": {},
     "nuid": "5331ed6a-af84-4ff3-8e0d-75068e4ffd07",
     "showTitle": false,
     "title": ""
    }
   },
   "source": [
    "### Se evidencia que se eliminaron los registros duplicados y valores faltantes para ambos datasets. Es decir, todas las columnas de ambos datasets tienen exactamente el mismo número de registros. "
   ]
  },
  {
   "cell_type": "markdown",
   "metadata": {
    "application/vnd.databricks.v1+cell": {
     "cellMetadata": {
      "byteLimit": 2048000,
      "rowLimit": 10000
     },
     "inputWidgets": {},
     "nuid": "2bf866e7-c89b-458f-8b97-f6157ef920bc",
     "showTitle": false,
     "title": ""
    }
   },
   "source": [
    "### A continuación se cambiarán los nombres de algunas columnas de los datasets para que cumplan con el estándar PEP8"
   ]
  },
  {
   "cell_type": "code",
   "execution_count": null,
   "metadata": {
    "application/vnd.databricks.v1+cell": {
     "cellMetadata": {
      "byteLimit": 2048000,
      "rowLimit": 10000
     },
     "inputWidgets": {},
     "nuid": "8cef5366-6e81-4c8b-9fed-7be7ef9ee404",
     "showTitle": false,
     "title": ""
    }
   },
   "outputs": [],
   "source": [
    "#Se cambian los nombres de ciertas columnas para que cumplan el estándar PEP8\n",
    "areas_deforestadas = areas_deforestadas.rename(columns={'TIPO GEOMETRIA': 'TIPO_GEOMETRIA'})\n",
    "nacimientos = nacimientos.rename(columns={'total H': 'total_H'})\n",
    "nacimientos = nacimientos.rename(columns={'total M': 'total_M'})\n",
    "nacimientos = nacimientos.rename(columns={'total indet': 'total_indet'})\n",
    "nacimientos = nacimientos.rename(columns={'cabecera municipal H': 'cabecera_municipal_H'})\n",
    "nacimientos = nacimientos.rename(columns={'cabecera municipal M': 'cabecera_municipal_M'})\n",
    "nacimientos = nacimientos.rename(columns={'cebecera municipal indet': 'cabecera_municipal_indet'})\n",
    "nacimientos = nacimientos.rename(columns={'centro poblado H': 'centro_poblado_H'})\n",
    "nacimientos = nacimientos.rename(columns={'centro poblado M': 'centro_poblado_M'})\n",
    "nacimientos = nacimientos.rename(columns={'centro poblado indet': 'centro_poblado_indet'})\n",
    "nacimientos = nacimientos.rename(columns={'rural disperso H': 'rural_disperso_H'})\n",
    "nacimientos = nacimientos.rename(columns={'rural disperso M': 'rural_disperso_M'})\n",
    "nacimientos = nacimientos.rename(columns={'rural disperso indet': 'rural_disperso_indet'})\n",
    "nacimientos = nacimientos.rename(columns={'sin info H': 'sin_info_H'})\n",
    "nacimientos = nacimientos.rename(columns={'sin info M': 'sin_info_M'})\n",
    "nacimientos = nacimientos.rename(columns={'sin info indet': 'sin_info_indet'})\n",
    "\n",
    "\n"
   ]
  },
  {
   "cell_type": "code",
   "execution_count": null,
   "metadata": {
    "application/vnd.databricks.v1+cell": {
     "cellMetadata": {
      "byteLimit": 2048000,
      "rowLimit": 10000
     },
     "inputWidgets": {},
     "nuid": "aaeb3ee4-9e21-4ca9-a8f5-e02d11957ede",
     "showTitle": false,
     "title": ""
    }
   },
   "outputs": [
    {
     "name": "stdout",
     "output_type": "stream",
     "text": [
      "<class 'pandas.core.frame.DataFrame'>\n",
      "RangeIndex: 5675 entries, 0 to 5674\n",
      "Data columns (total 10 columns):\n",
      " #   Column          Non-Null Count  Dtype  \n",
      "---  ------          --------------  -----  \n",
      " 0   ID              5675 non-null   int64  \n",
      " 1   TIPO_GEOMETRIA  5675 non-null   object \n",
      " 2   AÑO             5675 non-null   int64  \n",
      " 3   IMAGEN          5675 non-null   object \n",
      " 4   CAUSA           5675 non-null   object \n",
      " 5   AREA_Ha         5675 non-null   float64\n",
      " 6   OBSERVACION     5675 non-null   object \n",
      " 7   LATITUD         5675 non-null   object \n",
      " 8   LONGITUD        5675 non-null   object \n",
      " 9   MUNICIPIO       5675 non-null   object \n",
      "dtypes: float64(1), int64(2), object(7)\n",
      "memory usage: 443.5+ KB\n"
     ]
    }
   ],
   "source": [
    "#Se imprime la nueva información del dataset de areas deforestadas\n",
    "areas_deforestadas.info()"
   ]
  },
  {
   "cell_type": "code",
   "execution_count": null,
   "metadata": {
    "application/vnd.databricks.v1+cell": {
     "cellMetadata": {
      "byteLimit": 2048000,
      "rowLimit": 10000
     },
     "inputWidgets": {},
     "nuid": "16d4b068-2760-43aa-97db-c1877cc13c8b",
     "showTitle": false,
     "title": ""
    }
   },
   "outputs": [
    {
     "name": "stdout",
     "output_type": "stream",
     "text": [
      "<class 'pandas.core.frame.DataFrame'>\n",
      "RangeIndex: 763 entries, 0 to 762\n",
      "Data columns (total 19 columns):\n",
      " #   Column                    Non-Null Count  Dtype  \n",
      "---  ------                    --------------  -----  \n",
      " 0   año                       763 non-null    int64  \n",
      " 1   departamento              763 non-null    object \n",
      " 2   municipio                 763 non-null    object \n",
      " 3   total                     763 non-null    float64\n",
      " 4   total_H                   763 non-null    object \n",
      " 5   total_M                   763 non-null    float64\n",
      " 6   total_indet               763 non-null    object \n",
      " 7   cabecera_municipal_H      763 non-null    object \n",
      " 8   cabecera_municipal_M      763 non-null    float64\n",
      " 9   cabecera_municipal_indet  763 non-null    object \n",
      " 10  centro_poblado_H          763 non-null    float64\n",
      " 11  centro_poblado_M          763 non-null    float64\n",
      " 12  centro_poblado_indet      763 non-null    object \n",
      " 13  rural_disperso_H          763 non-null    float64\n",
      " 14  rural_disperso_M          763 non-null    float64\n",
      " 15  rural_disperso_indet      763 non-null    object \n",
      " 16  sin_info_H                763 non-null    float64\n",
      " 17  sin_info_M                763 non-null    float64\n",
      " 18  sin_info_indet            763 non-null    object \n",
      "dtypes: float64(9), int64(1), object(9)\n",
      "memory usage: 113.4+ KB\n"
     ]
    }
   ],
   "source": [
    "#Se imprime la nueva información del dataset de nacimientos\n",
    "nacimientos.info()"
   ]
  },
  {
   "cell_type": "markdown",
   "metadata": {
    "application/vnd.databricks.v1+cell": {
     "cellMetadata": {},
     "inputWidgets": {},
     "nuid": "22f78156-329f-41d6-ac29-baab3ef97f6f",
     "showTitle": false,
     "title": ""
    }
   },
   "source": [
    "Se imprimen los primeros 15 registros de cada dataframe"
   ]
  },
  {
   "cell_type": "code",
   "execution_count": null,
   "metadata": {
    "application/vnd.databricks.v1+cell": {
     "cellMetadata": {
      "byteLimit": 2048000,
      "rowLimit": 10000
     },
     "inputWidgets": {},
     "nuid": "749de17b-66a7-4a54-addd-3239bf8cb4de",
     "showTitle": false,
     "title": ""
    }
   },
   "outputs": [
    {
     "data": {
      "text/html": [
       "<div>\n",
       "<style scoped>\n",
       "    .dataframe tbody tr th:only-of-type {\n",
       "        vertical-align: middle;\n",
       "    }\n",
       "\n",
       "    .dataframe tbody tr th {\n",
       "        vertical-align: top;\n",
       "    }\n",
       "\n",
       "    .dataframe thead th {\n",
       "        text-align: right;\n",
       "    }\n",
       "</style>\n",
       "<table border=\"1\" class=\"dataframe\">\n",
       "  <thead>\n",
       "    <tr style=\"text-align: right;\">\n",
       "      <th></th>\n",
       "      <th>año</th>\n",
       "      <th>departamento</th>\n",
       "      <th>municipio</th>\n",
       "      <th>total</th>\n",
       "      <th>total_H</th>\n",
       "      <th>total_M</th>\n",
       "      <th>total_indet</th>\n",
       "      <th>cabecera_municipal_H</th>\n",
       "      <th>cabecera_municipal_M</th>\n",
       "      <th>cabecera_municipal_indet</th>\n",
       "      <th>centro_poblado_H</th>\n",
       "      <th>centro_poblado_M</th>\n",
       "      <th>centro_poblado_indet</th>\n",
       "      <th>rural_disperso_H</th>\n",
       "      <th>rural_disperso_M</th>\n",
       "      <th>rural_disperso_indet</th>\n",
       "      <th>sin_info_H</th>\n",
       "      <th>sin_info_M</th>\n",
       "      <th>sin_info_indet</th>\n",
       "    </tr>\n",
       "  </thead>\n",
       "  <tbody>\n",
       "    <tr>\n",
       "      <th>0</th>\n",
       "      <td>2009</td>\n",
       "      <td>antioquia</td>\n",
       "      <td>total</td>\n",
       "      <td>85.955</td>\n",
       "      <td>44.173</td>\n",
       "      <td>41.782</td>\n",
       "      <td>0,00</td>\n",
       "      <td>33.222</td>\n",
       "      <td>31.279</td>\n",
       "      <td>0,00</td>\n",
       "      <td>3.249</td>\n",
       "      <td>3.032</td>\n",
       "      <td>0,00</td>\n",
       "      <td>6.393</td>\n",
       "      <td>6.137</td>\n",
       "      <td>0,00</td>\n",
       "      <td>1.309</td>\n",
       "      <td>1.334</td>\n",
       "      <td>0,00</td>\n",
       "    </tr>\n",
       "    <tr>\n",
       "      <th>1</th>\n",
       "      <td>2009</td>\n",
       "      <td>antioquia</td>\n",
       "      <td>MEDELLÍN</td>\n",
       "      <td>31.893</td>\n",
       "      <td>16.334</td>\n",
       "      <td>15.559</td>\n",
       "      <td>0,00</td>\n",
       "      <td>15.871</td>\n",
       "      <td>15.141</td>\n",
       "      <td>0,00</td>\n",
       "      <td>210.000</td>\n",
       "      <td>208.000</td>\n",
       "      <td>0,00</td>\n",
       "      <td>126.000</td>\n",
       "      <td>101.000</td>\n",
       "      <td>0,00</td>\n",
       "      <td>127.000</td>\n",
       "      <td>109.000</td>\n",
       "      <td>0,00</td>\n",
       "    </tr>\n",
       "    <tr>\n",
       "      <th>2</th>\n",
       "      <td>2009</td>\n",
       "      <td>antioquia</td>\n",
       "      <td>ABEJORRAL</td>\n",
       "      <td>271.000</td>\n",
       "      <td>137</td>\n",
       "      <td>134.000</td>\n",
       "      <td>0,00</td>\n",
       "      <td>50</td>\n",
       "      <td>43.000</td>\n",
       "      <td>0,00</td>\n",
       "      <td>9.000</td>\n",
       "      <td>5.000</td>\n",
       "      <td>0,00</td>\n",
       "      <td>67.000</td>\n",
       "      <td>74.000</td>\n",
       "      <td>0,00</td>\n",
       "      <td>11.000</td>\n",
       "      <td>12.000</td>\n",
       "      <td>0,00</td>\n",
       "    </tr>\n",
       "    <tr>\n",
       "      <th>3</th>\n",
       "      <td>2009</td>\n",
       "      <td>antioquia</td>\n",
       "      <td>ABRIAQUÍ</td>\n",
       "      <td>21.000</td>\n",
       "      <td>11</td>\n",
       "      <td>10.000</td>\n",
       "      <td>0,00</td>\n",
       "      <td>4</td>\n",
       "      <td>6.000</td>\n",
       "      <td>0,00</td>\n",
       "      <td>1.000</td>\n",
       "      <td>1.000</td>\n",
       "      <td>0,00</td>\n",
       "      <td>6.000</td>\n",
       "      <td>3.000</td>\n",
       "      <td>0,00</td>\n",
       "      <td>0.000</td>\n",
       "      <td>0.000</td>\n",
       "      <td>0,00</td>\n",
       "    </tr>\n",
       "    <tr>\n",
       "      <th>4</th>\n",
       "      <td>2009</td>\n",
       "      <td>antioquia</td>\n",
       "      <td>ALEJANDRÍA</td>\n",
       "      <td>44.000</td>\n",
       "      <td>17</td>\n",
       "      <td>27.000</td>\n",
       "      <td>0,00</td>\n",
       "      <td>4</td>\n",
       "      <td>14.000</td>\n",
       "      <td>0,00</td>\n",
       "      <td>0.000</td>\n",
       "      <td>0.000</td>\n",
       "      <td>0,00</td>\n",
       "      <td>13.000</td>\n",
       "      <td>11.000</td>\n",
       "      <td>0,00</td>\n",
       "      <td>0.000</td>\n",
       "      <td>2.000</td>\n",
       "      <td>0,00</td>\n",
       "    </tr>\n",
       "    <tr>\n",
       "      <th>5</th>\n",
       "      <td>2009</td>\n",
       "      <td>antioquia</td>\n",
       "      <td>AMAGÁ</td>\n",
       "      <td>354.000</td>\n",
       "      <td>173</td>\n",
       "      <td>181.000</td>\n",
       "      <td>0,00</td>\n",
       "      <td>73</td>\n",
       "      <td>97.000</td>\n",
       "      <td>0,00</td>\n",
       "      <td>37.000</td>\n",
       "      <td>33.000</td>\n",
       "      <td>0,00</td>\n",
       "      <td>55.000</td>\n",
       "      <td>42.000</td>\n",
       "      <td>0,00</td>\n",
       "      <td>8.000</td>\n",
       "      <td>9.000</td>\n",
       "      <td>0,00</td>\n",
       "    </tr>\n",
       "    <tr>\n",
       "      <th>6</th>\n",
       "      <td>2009</td>\n",
       "      <td>antioquia</td>\n",
       "      <td>AMALFI</td>\n",
       "      <td>404.000</td>\n",
       "      <td>205</td>\n",
       "      <td>199.000</td>\n",
       "      <td>0,00</td>\n",
       "      <td>104</td>\n",
       "      <td>83.000</td>\n",
       "      <td>0,00</td>\n",
       "      <td>7.000</td>\n",
       "      <td>7.000</td>\n",
       "      <td>0,00</td>\n",
       "      <td>92.000</td>\n",
       "      <td>107.000</td>\n",
       "      <td>0,00</td>\n",
       "      <td>2.000</td>\n",
       "      <td>2.000</td>\n",
       "      <td>0,00</td>\n",
       "    </tr>\n",
       "    <tr>\n",
       "      <th>7</th>\n",
       "      <td>2009</td>\n",
       "      <td>antioquia</td>\n",
       "      <td>ANDES</td>\n",
       "      <td>594.000</td>\n",
       "      <td>301</td>\n",
       "      <td>293.000</td>\n",
       "      <td>0,00</td>\n",
       "      <td>3,00</td>\n",
       "      <td>117.000</td>\n",
       "      <td>0,00</td>\n",
       "      <td>82.000</td>\n",
       "      <td>58.000</td>\n",
       "      <td>0,00</td>\n",
       "      <td>83.000</td>\n",
       "      <td>102.000</td>\n",
       "      <td>0,00</td>\n",
       "      <td>15.000</td>\n",
       "      <td>16.000</td>\n",
       "      <td>0,00</td>\n",
       "    </tr>\n",
       "    <tr>\n",
       "      <th>8</th>\n",
       "      <td>2009</td>\n",
       "      <td>antioquia</td>\n",
       "      <td>ÁNGELÓPOLIS</td>\n",
       "      <td>73.000</td>\n",
       "      <td>39</td>\n",
       "      <td>34.000</td>\n",
       "      <td>0,00</td>\n",
       "      <td>15</td>\n",
       "      <td>14.000</td>\n",
       "      <td>0,00</td>\n",
       "      <td>8.000</td>\n",
       "      <td>10.000</td>\n",
       "      <td>0,00</td>\n",
       "      <td>15.000</td>\n",
       "      <td>8.000</td>\n",
       "      <td>0,00</td>\n",
       "      <td>1.000</td>\n",
       "      <td>2.000</td>\n",
       "      <td>0,00</td>\n",
       "    </tr>\n",
       "    <tr>\n",
       "      <th>9</th>\n",
       "      <td>2009</td>\n",
       "      <td>antioquia</td>\n",
       "      <td>ANGOSTURA</td>\n",
       "      <td>160.000</td>\n",
       "      <td>90</td>\n",
       "      <td>70.000</td>\n",
       "      <td>0,00</td>\n",
       "      <td>14</td>\n",
       "      <td>14.000</td>\n",
       "      <td>0,00</td>\n",
       "      <td>0.000</td>\n",
       "      <td>1.000</td>\n",
       "      <td>0,00</td>\n",
       "      <td>70.000</td>\n",
       "      <td>51.000</td>\n",
       "      <td>0,00</td>\n",
       "      <td>6.000</td>\n",
       "      <td>4.000</td>\n",
       "      <td>0,00</td>\n",
       "    </tr>\n",
       "    <tr>\n",
       "      <th>10</th>\n",
       "      <td>2009</td>\n",
       "      <td>antioquia</td>\n",
       "      <td>ANORÍ</td>\n",
       "      <td>278.000</td>\n",
       "      <td>159</td>\n",
       "      <td>119.000</td>\n",
       "      <td>0,00</td>\n",
       "      <td>74</td>\n",
       "      <td>60.000</td>\n",
       "      <td>0,00</td>\n",
       "      <td>5.000</td>\n",
       "      <td>4.000</td>\n",
       "      <td>0,00</td>\n",
       "      <td>72.000</td>\n",
       "      <td>49.000</td>\n",
       "      <td>0,00</td>\n",
       "      <td>8.000</td>\n",
       "      <td>6.000</td>\n",
       "      <td>0,00</td>\n",
       "    </tr>\n",
       "    <tr>\n",
       "      <th>11</th>\n",
       "      <td>2009</td>\n",
       "      <td>antioquia</td>\n",
       "      <td>SANTAFÉ DE ANTIOQUIA</td>\n",
       "      <td>330.000</td>\n",
       "      <td>166</td>\n",
       "      <td>164.000</td>\n",
       "      <td>0,00</td>\n",
       "      <td>88</td>\n",
       "      <td>83.000</td>\n",
       "      <td>0,00</td>\n",
       "      <td>4.000</td>\n",
       "      <td>5.000</td>\n",
       "      <td>0,00</td>\n",
       "      <td>65.000</td>\n",
       "      <td>72.000</td>\n",
       "      <td>0,00</td>\n",
       "      <td>9.000</td>\n",
       "      <td>4.000</td>\n",
       "      <td>0,00</td>\n",
       "    </tr>\n",
       "    <tr>\n",
       "      <th>12</th>\n",
       "      <td>2009</td>\n",
       "      <td>antioquia</td>\n",
       "      <td>ANZÁ</td>\n",
       "      <td>122.000</td>\n",
       "      <td>56</td>\n",
       "      <td>66.000</td>\n",
       "      <td>0,00</td>\n",
       "      <td>13</td>\n",
       "      <td>6.000</td>\n",
       "      <td>0,00</td>\n",
       "      <td>14.000</td>\n",
       "      <td>22.000</td>\n",
       "      <td>0,00</td>\n",
       "      <td>24.000</td>\n",
       "      <td>34.000</td>\n",
       "      <td>0,00</td>\n",
       "      <td>5.000</td>\n",
       "      <td>4.000</td>\n",
       "      <td>0,00</td>\n",
       "    </tr>\n",
       "    <tr>\n",
       "      <th>13</th>\n",
       "      <td>2009</td>\n",
       "      <td>antioquia</td>\n",
       "      <td>APARTADÓ</td>\n",
       "      <td>2.573</td>\n",
       "      <td>1.356</td>\n",
       "      <td>1.217</td>\n",
       "      <td>0,00</td>\n",
       "      <td>1.150</td>\n",
       "      <td>1.044</td>\n",
       "      <td>0,00</td>\n",
       "      <td>89.000</td>\n",
       "      <td>61.000</td>\n",
       "      <td>0,00</td>\n",
       "      <td>89.000</td>\n",
       "      <td>77.000</td>\n",
       "      <td>0,00</td>\n",
       "      <td>28.000</td>\n",
       "      <td>35.000</td>\n",
       "      <td>0,00</td>\n",
       "    </tr>\n",
       "    <tr>\n",
       "      <th>14</th>\n",
       "      <td>2009</td>\n",
       "      <td>antioquia</td>\n",
       "      <td>ARBOLETES</td>\n",
       "      <td>422.000</td>\n",
       "      <td>220</td>\n",
       "      <td>202.000</td>\n",
       "      <td>0,00</td>\n",
       "      <td>102</td>\n",
       "      <td>110.000</td>\n",
       "      <td>0,00</td>\n",
       "      <td>44.000</td>\n",
       "      <td>26.000</td>\n",
       "      <td>0,00</td>\n",
       "      <td>59.000</td>\n",
       "      <td>49.000</td>\n",
       "      <td>0,00</td>\n",
       "      <td>15.000</td>\n",
       "      <td>17.000</td>\n",
       "      <td>0,00</td>\n",
       "    </tr>\n",
       "  </tbody>\n",
       "</table>\n",
       "</div>"
      ]
     },
     "metadata": {
      "application/vnd.databricks.v1+output": {
       "addedWidgets": {},
       "arguments": {},
       "data": "<div>\n<style scoped>\n    .dataframe tbody tr th:only-of-type {\n        vertical-align: middle;\n    }\n\n    .dataframe tbody tr th {\n        vertical-align: top;\n    }\n\n    .dataframe thead th {\n        text-align: right;\n    }\n</style>\n<table border=\"1\" class=\"dataframe\">\n  <thead>\n    <tr style=\"text-align: right;\">\n      <th></th>\n      <th>año</th>\n      <th>departamento</th>\n      <th>municipio</th>\n      <th>total</th>\n      <th>total_H</th>\n      <th>total_M</th>\n      <th>total_indet</th>\n      <th>cabecera_municipal_H</th>\n      <th>cabecera_municipal_M</th>\n      <th>cabecera_municipal_indet</th>\n      <th>centro_poblado_H</th>\n      <th>centro_poblado_M</th>\n      <th>centro_poblado_indet</th>\n      <th>rural_disperso_H</th>\n      <th>rural_disperso_M</th>\n      <th>rural_disperso_indet</th>\n      <th>sin_info_H</th>\n      <th>sin_info_M</th>\n      <th>sin_info_indet</th>\n    </tr>\n  </thead>\n  <tbody>\n    <tr>\n      <th>0</th>\n      <td>2009</td>\n      <td>antioquia</td>\n      <td>total</td>\n      <td>85.955</td>\n      <td>44.173</td>\n      <td>41.782</td>\n      <td>0,00</td>\n      <td>33.222</td>\n      <td>31.279</td>\n      <td>0,00</td>\n      <td>3.249</td>\n      <td>3.032</td>\n      <td>0,00</td>\n      <td>6.393</td>\n      <td>6.137</td>\n      <td>0,00</td>\n      <td>1.309</td>\n      <td>1.334</td>\n      <td>0,00</td>\n    </tr>\n    <tr>\n      <th>1</th>\n      <td>2009</td>\n      <td>antioquia</td>\n      <td>MEDELLÍN</td>\n      <td>31.893</td>\n      <td>16.334</td>\n      <td>15.559</td>\n      <td>0,00</td>\n      <td>15.871</td>\n      <td>15.141</td>\n      <td>0,00</td>\n      <td>210.000</td>\n      <td>208.000</td>\n      <td>0,00</td>\n      <td>126.000</td>\n      <td>101.000</td>\n      <td>0,00</td>\n      <td>127.000</td>\n      <td>109.000</td>\n      <td>0,00</td>\n    </tr>\n    <tr>\n      <th>2</th>\n      <td>2009</td>\n      <td>antioquia</td>\n      <td>ABEJORRAL</td>\n      <td>271.000</td>\n      <td>137</td>\n      <td>134.000</td>\n      <td>0,00</td>\n      <td>50</td>\n      <td>43.000</td>\n      <td>0,00</td>\n      <td>9.000</td>\n      <td>5.000</td>\n      <td>0,00</td>\n      <td>67.000</td>\n      <td>74.000</td>\n      <td>0,00</td>\n      <td>11.000</td>\n      <td>12.000</td>\n      <td>0,00</td>\n    </tr>\n    <tr>\n      <th>3</th>\n      <td>2009</td>\n      <td>antioquia</td>\n      <td>ABRIAQUÍ</td>\n      <td>21.000</td>\n      <td>11</td>\n      <td>10.000</td>\n      <td>0,00</td>\n      <td>4</td>\n      <td>6.000</td>\n      <td>0,00</td>\n      <td>1.000</td>\n      <td>1.000</td>\n      <td>0,00</td>\n      <td>6.000</td>\n      <td>3.000</td>\n      <td>0,00</td>\n      <td>0.000</td>\n      <td>0.000</td>\n      <td>0,00</td>\n    </tr>\n    <tr>\n      <th>4</th>\n      <td>2009</td>\n      <td>antioquia</td>\n      <td>ALEJANDRÍA</td>\n      <td>44.000</td>\n      <td>17</td>\n      <td>27.000</td>\n      <td>0,00</td>\n      <td>4</td>\n      <td>14.000</td>\n      <td>0,00</td>\n      <td>0.000</td>\n      <td>0.000</td>\n      <td>0,00</td>\n      <td>13.000</td>\n      <td>11.000</td>\n      <td>0,00</td>\n      <td>0.000</td>\n      <td>2.000</td>\n      <td>0,00</td>\n    </tr>\n    <tr>\n      <th>5</th>\n      <td>2009</td>\n      <td>antioquia</td>\n      <td>AMAGÁ</td>\n      <td>354.000</td>\n      <td>173</td>\n      <td>181.000</td>\n      <td>0,00</td>\n      <td>73</td>\n      <td>97.000</td>\n      <td>0,00</td>\n      <td>37.000</td>\n      <td>33.000</td>\n      <td>0,00</td>\n      <td>55.000</td>\n      <td>42.000</td>\n      <td>0,00</td>\n      <td>8.000</td>\n      <td>9.000</td>\n      <td>0,00</td>\n    </tr>\n    <tr>\n      <th>6</th>\n      <td>2009</td>\n      <td>antioquia</td>\n      <td>AMALFI</td>\n      <td>404.000</td>\n      <td>205</td>\n      <td>199.000</td>\n      <td>0,00</td>\n      <td>104</td>\n      <td>83.000</td>\n      <td>0,00</td>\n      <td>7.000</td>\n      <td>7.000</td>\n      <td>0,00</td>\n      <td>92.000</td>\n      <td>107.000</td>\n      <td>0,00</td>\n      <td>2.000</td>\n      <td>2.000</td>\n      <td>0,00</td>\n    </tr>\n    <tr>\n      <th>7</th>\n      <td>2009</td>\n      <td>antioquia</td>\n      <td>ANDES</td>\n      <td>594.000</td>\n      <td>301</td>\n      <td>293.000</td>\n      <td>0,00</td>\n      <td>3,00</td>\n      <td>117.000</td>\n      <td>0,00</td>\n      <td>82.000</td>\n      <td>58.000</td>\n      <td>0,00</td>\n      <td>83.000</td>\n      <td>102.000</td>\n      <td>0,00</td>\n      <td>15.000</td>\n      <td>16.000</td>\n      <td>0,00</td>\n    </tr>\n    <tr>\n      <th>8</th>\n      <td>2009</td>\n      <td>antioquia</td>\n      <td>ÁNGELÓPOLIS</td>\n      <td>73.000</td>\n      <td>39</td>\n      <td>34.000</td>\n      <td>0,00</td>\n      <td>15</td>\n      <td>14.000</td>\n      <td>0,00</td>\n      <td>8.000</td>\n      <td>10.000</td>\n      <td>0,00</td>\n      <td>15.000</td>\n      <td>8.000</td>\n      <td>0,00</td>\n      <td>1.000</td>\n      <td>2.000</td>\n      <td>0,00</td>\n    </tr>\n    <tr>\n      <th>9</th>\n      <td>2009</td>\n      <td>antioquia</td>\n      <td>ANGOSTURA</td>\n      <td>160.000</td>\n      <td>90</td>\n      <td>70.000</td>\n      <td>0,00</td>\n      <td>14</td>\n      <td>14.000</td>\n      <td>0,00</td>\n      <td>0.000</td>\n      <td>1.000</td>\n      <td>0,00</td>\n      <td>70.000</td>\n      <td>51.000</td>\n      <td>0,00</td>\n      <td>6.000</td>\n      <td>4.000</td>\n      <td>0,00</td>\n    </tr>\n    <tr>\n      <th>10</th>\n      <td>2009</td>\n      <td>antioquia</td>\n      <td>ANORÍ</td>\n      <td>278.000</td>\n      <td>159</td>\n      <td>119.000</td>\n      <td>0,00</td>\n      <td>74</td>\n      <td>60.000</td>\n      <td>0,00</td>\n      <td>5.000</td>\n      <td>4.000</td>\n      <td>0,00</td>\n      <td>72.000</td>\n      <td>49.000</td>\n      <td>0,00</td>\n      <td>8.000</td>\n      <td>6.000</td>\n      <td>0,00</td>\n    </tr>\n    <tr>\n      <th>11</th>\n      <td>2009</td>\n      <td>antioquia</td>\n      <td>SANTAFÉ DE ANTIOQUIA</td>\n      <td>330.000</td>\n      <td>166</td>\n      <td>164.000</td>\n      <td>0,00</td>\n      <td>88</td>\n      <td>83.000</td>\n      <td>0,00</td>\n      <td>4.000</td>\n      <td>5.000</td>\n      <td>0,00</td>\n      <td>65.000</td>\n      <td>72.000</td>\n      <td>0,00</td>\n      <td>9.000</td>\n      <td>4.000</td>\n      <td>0,00</td>\n    </tr>\n    <tr>\n      <th>12</th>\n      <td>2009</td>\n      <td>antioquia</td>\n      <td>ANZÁ</td>\n      <td>122.000</td>\n      <td>56</td>\n      <td>66.000</td>\n      <td>0,00</td>\n      <td>13</td>\n      <td>6.000</td>\n      <td>0,00</td>\n      <td>14.000</td>\n      <td>22.000</td>\n      <td>0,00</td>\n      <td>24.000</td>\n      <td>34.000</td>\n      <td>0,00</td>\n      <td>5.000</td>\n      <td>4.000</td>\n      <td>0,00</td>\n    </tr>\n    <tr>\n      <th>13</th>\n      <td>2009</td>\n      <td>antioquia</td>\n      <td>APARTADÓ</td>\n      <td>2.573</td>\n      <td>1.356</td>\n      <td>1.217</td>\n      <td>0,00</td>\n      <td>1.150</td>\n      <td>1.044</td>\n      <td>0,00</td>\n      <td>89.000</td>\n      <td>61.000</td>\n      <td>0,00</td>\n      <td>89.000</td>\n      <td>77.000</td>\n      <td>0,00</td>\n      <td>28.000</td>\n      <td>35.000</td>\n      <td>0,00</td>\n    </tr>\n    <tr>\n      <th>14</th>\n      <td>2009</td>\n      <td>antioquia</td>\n      <td>ARBOLETES</td>\n      <td>422.000</td>\n      <td>220</td>\n      <td>202.000</td>\n      <td>0,00</td>\n      <td>102</td>\n      <td>110.000</td>\n      <td>0,00</td>\n      <td>44.000</td>\n      <td>26.000</td>\n      <td>0,00</td>\n      <td>59.000</td>\n      <td>49.000</td>\n      <td>0,00</td>\n      <td>15.000</td>\n      <td>17.000</td>\n      <td>0,00</td>\n    </tr>\n  </tbody>\n</table>\n</div>",
       "datasetInfos": [],
       "metadata": {},
       "removedWidgets": [],
       "textData": null,
       "type": "htmlSandbox"
      }
     },
     "output_type": "display_data"
    }
   ],
   "source": [
    "nacimientos.head(15)"
   ]
  },
  {
   "cell_type": "code",
   "execution_count": null,
   "metadata": {
    "application/vnd.databricks.v1+cell": {
     "cellMetadata": {
      "byteLimit": 2048000,
      "rowLimit": 10000
     },
     "inputWidgets": {},
     "nuid": "2bf8db0b-d742-45fd-b41d-d96f88e220dd",
     "showTitle": false,
     "title": ""
    }
   },
   "outputs": [
    {
     "data": {
      "text/html": [
       "<div>\n",
       "<style scoped>\n",
       "    .dataframe tbody tr th:only-of-type {\n",
       "        vertical-align: middle;\n",
       "    }\n",
       "\n",
       "    .dataframe tbody tr th {\n",
       "        vertical-align: top;\n",
       "    }\n",
       "\n",
       "    .dataframe thead th {\n",
       "        text-align: right;\n",
       "    }\n",
       "</style>\n",
       "<table border=\"1\" class=\"dataframe\">\n",
       "  <thead>\n",
       "    <tr style=\"text-align: right;\">\n",
       "      <th></th>\n",
       "      <th>ID</th>\n",
       "      <th>TIPO_GEOMETRIA</th>\n",
       "      <th>AÑO</th>\n",
       "      <th>IMAGEN</th>\n",
       "      <th>CAUSA</th>\n",
       "      <th>AREA_Ha</th>\n",
       "      <th>OBSERVACION</th>\n",
       "      <th>LATITUD</th>\n",
       "      <th>LONGITUD</th>\n",
       "      <th>MUNICIPIO</th>\n",
       "    </tr>\n",
       "  </thead>\n",
       "  <tbody>\n",
       "    <tr>\n",
       "      <th>0</th>\n",
       "      <td>7463</td>\n",
       "      <td>Polygon</td>\n",
       "      <td>2020</td>\n",
       "      <td>T18PTQ_20200201T153611_TCI_10m.jp2 - T18PTQ_20...</td>\n",
       "      <td>Cultivo</td>\n",
       "      <td>0.126512</td>\n",
       "      <td>Ninguna</td>\n",
       "      <td>8° 22' 43,726\" N</td>\n",
       "      <td>77° 14' 19,019\" W</td>\n",
       "      <td>ACANDÍ</td>\n",
       "    </tr>\n",
       "    <tr>\n",
       "      <th>1</th>\n",
       "      <td>4659</td>\n",
       "      <td>Polygon</td>\n",
       "      <td>2019</td>\n",
       "      <td>T18PTQ_20190527T153621_TCI_10m.jp2 - T18PTQ_20...</td>\n",
       "      <td>Cultivo</td>\n",
       "      <td>0.140720</td>\n",
       "      <td>Ninguna</td>\n",
       "      <td>8° 30' 47,551\" N</td>\n",
       "      <td>77° 19' 30,507\" W</td>\n",
       "      <td>ACANDÍ</td>\n",
       "    </tr>\n",
       "    <tr>\n",
       "      <th>2</th>\n",
       "      <td>7459</td>\n",
       "      <td>Polygon</td>\n",
       "      <td>2020</td>\n",
       "      <td>T18PTQ_20200112T153611_TCI_10m.jp2 - T18PTQ_20...</td>\n",
       "      <td>Cultivo</td>\n",
       "      <td>0.141250</td>\n",
       "      <td>Ninguna</td>\n",
       "      <td>8° 22' 30,966\" N</td>\n",
       "      <td>77° 13' 49,720\" W</td>\n",
       "      <td>ACANDÍ</td>\n",
       "    </tr>\n",
       "    <tr>\n",
       "      <th>3</th>\n",
       "      <td>9719</td>\n",
       "      <td>Polygon</td>\n",
       "      <td>2021</td>\n",
       "      <td>T18PTQ_20201202T153619_TCI_10m.jp2 - T18PTQ_20...</td>\n",
       "      <td>Cultivo</td>\n",
       "      <td>0.158066</td>\n",
       "      <td>Ninguna</td>\n",
       "      <td>8° 36' 11.256\" N</td>\n",
       "      <td>77° 20' 50.757\" W</td>\n",
       "      <td>ACANDÍ</td>\n",
       "    </tr>\n",
       "    <tr>\n",
       "      <th>4</th>\n",
       "      <td>7464</td>\n",
       "      <td>Polygon</td>\n",
       "      <td>2020</td>\n",
       "      <td>T18PTQ_20200201T153611_TCI_10m.jp2 - T18PTQ_20...</td>\n",
       "      <td>Cultivo</td>\n",
       "      <td>0.184549</td>\n",
       "      <td>Ninguna</td>\n",
       "      <td>8° 22' 22,008\" N</td>\n",
       "      <td>77° 14' 3,921\" W</td>\n",
       "      <td>ACANDÍ</td>\n",
       "    </tr>\n",
       "    <tr>\n",
       "      <th>5</th>\n",
       "      <td>7445</td>\n",
       "      <td>Polygon</td>\n",
       "      <td>2020</td>\n",
       "      <td>T18PTQ_20200112T153611_TCI_10m.jp2 - T18PTQ_20...</td>\n",
       "      <td>Cultivo</td>\n",
       "      <td>0.184854</td>\n",
       "      <td>Ninguna</td>\n",
       "      <td>8° 20' 7,286\" N</td>\n",
       "      <td>77° 12' 42,121\" W</td>\n",
       "      <td>ACANDÍ</td>\n",
       "    </tr>\n",
       "    <tr>\n",
       "      <th>6</th>\n",
       "      <td>7440</td>\n",
       "      <td>Polygon</td>\n",
       "      <td>2020</td>\n",
       "      <td>T18PTQ_20201107T153621_TCI_10m.jp2 - T18PTQ_20...</td>\n",
       "      <td>Cultivo</td>\n",
       "      <td>0.185392</td>\n",
       "      <td>Ninguna</td>\n",
       "      <td>8° 23' 18,620\" N</td>\n",
       "      <td>77° 14' 40,196\" W</td>\n",
       "      <td>ACANDÍ</td>\n",
       "    </tr>\n",
       "    <tr>\n",
       "      <th>7</th>\n",
       "      <td>7484</td>\n",
       "      <td>Polygon</td>\n",
       "      <td>2020</td>\n",
       "      <td>T18PTQ_20200211T153611_TCI_10m.jp2 - T18PTQ_20...</td>\n",
       "      <td>Cultivo</td>\n",
       "      <td>0.200436</td>\n",
       "      <td>Ninguna</td>\n",
       "      <td>8° 27' 50,102\" N</td>\n",
       "      <td>77° 21' 38,627\" W</td>\n",
       "      <td>ACANDÍ</td>\n",
       "    </tr>\n",
       "    <tr>\n",
       "      <th>8</th>\n",
       "      <td>7478</td>\n",
       "      <td>Polygon</td>\n",
       "      <td>2020</td>\n",
       "      <td>T18PTQ_20200211T153611_TCI_10m.jp2 - T18PTQ_20...</td>\n",
       "      <td>Cultivo</td>\n",
       "      <td>0.214739</td>\n",
       "      <td>Ninguna</td>\n",
       "      <td>8° 24' 2,397\" N</td>\n",
       "      <td>77° 9' 34,027\" W</td>\n",
       "      <td>ACANDÍ</td>\n",
       "    </tr>\n",
       "    <tr>\n",
       "      <th>9</th>\n",
       "      <td>4684</td>\n",
       "      <td>Polygon</td>\n",
       "      <td>2019</td>\n",
       "      <td>T18PTQ_20190527T153621_TCI_10m.jp2 - T18PTQ_20...</td>\n",
       "      <td>Cultivo</td>\n",
       "      <td>0.217124</td>\n",
       "      <td>Ninguna</td>\n",
       "      <td>8° 29' 1,740\" N</td>\n",
       "      <td>77° 22' 8,066\" W</td>\n",
       "      <td>ACANDÍ</td>\n",
       "    </tr>\n",
       "    <tr>\n",
       "      <th>10</th>\n",
       "      <td>4719</td>\n",
       "      <td>Polygon</td>\n",
       "      <td>2019</td>\n",
       "      <td>T18PTQ_20190407T153621_TCI_10m.jp2 - T18PTQ_20...</td>\n",
       "      <td>Ganadería</td>\n",
       "      <td>0.234319</td>\n",
       "      <td>Ninguna</td>\n",
       "      <td>8° 28' 33,947\" N</td>\n",
       "      <td>77° 15' 13,315\" W</td>\n",
       "      <td>ACANDÍ</td>\n",
       "    </tr>\n",
       "    <tr>\n",
       "      <th>11</th>\n",
       "      <td>7461</td>\n",
       "      <td>Polygon</td>\n",
       "      <td>2020</td>\n",
       "      <td>T18PTQ_20200112T153611_TCI_10m.jp2 - T18PTQ_20...</td>\n",
       "      <td>Cultivo</td>\n",
       "      <td>0.264092</td>\n",
       "      <td>Ninguna</td>\n",
       "      <td>8° 22' 23,660\" N</td>\n",
       "      <td>77° 14' 3,844\" W</td>\n",
       "      <td>ACANDÍ</td>\n",
       "    </tr>\n",
       "    <tr>\n",
       "      <th>12</th>\n",
       "      <td>7419</td>\n",
       "      <td>Polygon</td>\n",
       "      <td>2020</td>\n",
       "      <td>T18PTQ_20201107T153621_TCI_10m.jp2 - T18PTQ_20...</td>\n",
       "      <td>Cultivo</td>\n",
       "      <td>0.269658</td>\n",
       "      <td>Ninguna</td>\n",
       "      <td>8° 31' 23,497\" N</td>\n",
       "      <td>77° 23' 35,401\" W</td>\n",
       "      <td>ACANDÍ</td>\n",
       "    </tr>\n",
       "    <tr>\n",
       "      <th>13</th>\n",
       "      <td>4658</td>\n",
       "      <td>Polygon</td>\n",
       "      <td>2019</td>\n",
       "      <td>T18PTQ_20190527T153621_TCI_10m.jp2 - T18PTQ_20...</td>\n",
       "      <td>Cultivo</td>\n",
       "      <td>0.279392</td>\n",
       "      <td>Ninguna</td>\n",
       "      <td>8° 30' 55,153\" N</td>\n",
       "      <td>77° 19' 39,360\" W</td>\n",
       "      <td>ACANDÍ</td>\n",
       "    </tr>\n",
       "    <tr>\n",
       "      <th>14</th>\n",
       "      <td>4726</td>\n",
       "      <td>Polygon</td>\n",
       "      <td>2019</td>\n",
       "      <td>T18PTQ_20190407T153621_TCI_10m.jp2 - T18PTQ_20...</td>\n",
       "      <td>Ganadería</td>\n",
       "      <td>0.284863</td>\n",
       "      <td>Ninguna</td>\n",
       "      <td>8° 25' 48,509\" N</td>\n",
       "      <td>77° 11' 27,234\" W</td>\n",
       "      <td>ACANDÍ</td>\n",
       "    </tr>\n",
       "  </tbody>\n",
       "</table>\n",
       "</div>"
      ]
     },
     "metadata": {
      "application/vnd.databricks.v1+output": {
       "addedWidgets": {},
       "arguments": {},
       "data": "<div>\n<style scoped>\n    .dataframe tbody tr th:only-of-type {\n        vertical-align: middle;\n    }\n\n    .dataframe tbody tr th {\n        vertical-align: top;\n    }\n\n    .dataframe thead th {\n        text-align: right;\n    }\n</style>\n<table border=\"1\" class=\"dataframe\">\n  <thead>\n    <tr style=\"text-align: right;\">\n      <th></th>\n      <th>ID</th>\n      <th>TIPO_GEOMETRIA</th>\n      <th>AÑO</th>\n      <th>IMAGEN</th>\n      <th>CAUSA</th>\n      <th>AREA_Ha</th>\n      <th>OBSERVACION</th>\n      <th>LATITUD</th>\n      <th>LONGITUD</th>\n      <th>MUNICIPIO</th>\n    </tr>\n  </thead>\n  <tbody>\n    <tr>\n      <th>0</th>\n      <td>7463</td>\n      <td>Polygon</td>\n      <td>2020</td>\n      <td>T18PTQ_20200201T153611_TCI_10m.jp2 - T18PTQ_20...</td>\n      <td>Cultivo</td>\n      <td>0.126512</td>\n      <td>Ninguna</td>\n      <td>8° 22' 43,726\" N</td>\n      <td>77° 14' 19,019\" W</td>\n      <td>ACANDÍ</td>\n    </tr>\n    <tr>\n      <th>1</th>\n      <td>4659</td>\n      <td>Polygon</td>\n      <td>2019</td>\n      <td>T18PTQ_20190527T153621_TCI_10m.jp2 - T18PTQ_20...</td>\n      <td>Cultivo</td>\n      <td>0.140720</td>\n      <td>Ninguna</td>\n      <td>8° 30' 47,551\" N</td>\n      <td>77° 19' 30,507\" W</td>\n      <td>ACANDÍ</td>\n    </tr>\n    <tr>\n      <th>2</th>\n      <td>7459</td>\n      <td>Polygon</td>\n      <td>2020</td>\n      <td>T18PTQ_20200112T153611_TCI_10m.jp2 - T18PTQ_20...</td>\n      <td>Cultivo</td>\n      <td>0.141250</td>\n      <td>Ninguna</td>\n      <td>8° 22' 30,966\" N</td>\n      <td>77° 13' 49,720\" W</td>\n      <td>ACANDÍ</td>\n    </tr>\n    <tr>\n      <th>3</th>\n      <td>9719</td>\n      <td>Polygon</td>\n      <td>2021</td>\n      <td>T18PTQ_20201202T153619_TCI_10m.jp2 - T18PTQ_20...</td>\n      <td>Cultivo</td>\n      <td>0.158066</td>\n      <td>Ninguna</td>\n      <td>8° 36' 11.256\" N</td>\n      <td>77° 20' 50.757\" W</td>\n      <td>ACANDÍ</td>\n    </tr>\n    <tr>\n      <th>4</th>\n      <td>7464</td>\n      <td>Polygon</td>\n      <td>2020</td>\n      <td>T18PTQ_20200201T153611_TCI_10m.jp2 - T18PTQ_20...</td>\n      <td>Cultivo</td>\n      <td>0.184549</td>\n      <td>Ninguna</td>\n      <td>8° 22' 22,008\" N</td>\n      <td>77° 14' 3,921\" W</td>\n      <td>ACANDÍ</td>\n    </tr>\n    <tr>\n      <th>5</th>\n      <td>7445</td>\n      <td>Polygon</td>\n      <td>2020</td>\n      <td>T18PTQ_20200112T153611_TCI_10m.jp2 - T18PTQ_20...</td>\n      <td>Cultivo</td>\n      <td>0.184854</td>\n      <td>Ninguna</td>\n      <td>8° 20' 7,286\" N</td>\n      <td>77° 12' 42,121\" W</td>\n      <td>ACANDÍ</td>\n    </tr>\n    <tr>\n      <th>6</th>\n      <td>7440</td>\n      <td>Polygon</td>\n      <td>2020</td>\n      <td>T18PTQ_20201107T153621_TCI_10m.jp2 - T18PTQ_20...</td>\n      <td>Cultivo</td>\n      <td>0.185392</td>\n      <td>Ninguna</td>\n      <td>8° 23' 18,620\" N</td>\n      <td>77° 14' 40,196\" W</td>\n      <td>ACANDÍ</td>\n    </tr>\n    <tr>\n      <th>7</th>\n      <td>7484</td>\n      <td>Polygon</td>\n      <td>2020</td>\n      <td>T18PTQ_20200211T153611_TCI_10m.jp2 - T18PTQ_20...</td>\n      <td>Cultivo</td>\n      <td>0.200436</td>\n      <td>Ninguna</td>\n      <td>8° 27' 50,102\" N</td>\n      <td>77° 21' 38,627\" W</td>\n      <td>ACANDÍ</td>\n    </tr>\n    <tr>\n      <th>8</th>\n      <td>7478</td>\n      <td>Polygon</td>\n      <td>2020</td>\n      <td>T18PTQ_20200211T153611_TCI_10m.jp2 - T18PTQ_20...</td>\n      <td>Cultivo</td>\n      <td>0.214739</td>\n      <td>Ninguna</td>\n      <td>8° 24' 2,397\" N</td>\n      <td>77° 9' 34,027\" W</td>\n      <td>ACANDÍ</td>\n    </tr>\n    <tr>\n      <th>9</th>\n      <td>4684</td>\n      <td>Polygon</td>\n      <td>2019</td>\n      <td>T18PTQ_20190527T153621_TCI_10m.jp2 - T18PTQ_20...</td>\n      <td>Cultivo</td>\n      <td>0.217124</td>\n      <td>Ninguna</td>\n      <td>8° 29' 1,740\" N</td>\n      <td>77° 22' 8,066\" W</td>\n      <td>ACANDÍ</td>\n    </tr>\n    <tr>\n      <th>10</th>\n      <td>4719</td>\n      <td>Polygon</td>\n      <td>2019</td>\n      <td>T18PTQ_20190407T153621_TCI_10m.jp2 - T18PTQ_20...</td>\n      <td>Ganadería</td>\n      <td>0.234319</td>\n      <td>Ninguna</td>\n      <td>8° 28' 33,947\" N</td>\n      <td>77° 15' 13,315\" W</td>\n      <td>ACANDÍ</td>\n    </tr>\n    <tr>\n      <th>11</th>\n      <td>7461</td>\n      <td>Polygon</td>\n      <td>2020</td>\n      <td>T18PTQ_20200112T153611_TCI_10m.jp2 - T18PTQ_20...</td>\n      <td>Cultivo</td>\n      <td>0.264092</td>\n      <td>Ninguna</td>\n      <td>8° 22' 23,660\" N</td>\n      <td>77° 14' 3,844\" W</td>\n      <td>ACANDÍ</td>\n    </tr>\n    <tr>\n      <th>12</th>\n      <td>7419</td>\n      <td>Polygon</td>\n      <td>2020</td>\n      <td>T18PTQ_20201107T153621_TCI_10m.jp2 - T18PTQ_20...</td>\n      <td>Cultivo</td>\n      <td>0.269658</td>\n      <td>Ninguna</td>\n      <td>8° 31' 23,497\" N</td>\n      <td>77° 23' 35,401\" W</td>\n      <td>ACANDÍ</td>\n    </tr>\n    <tr>\n      <th>13</th>\n      <td>4658</td>\n      <td>Polygon</td>\n      <td>2019</td>\n      <td>T18PTQ_20190527T153621_TCI_10m.jp2 - T18PTQ_20...</td>\n      <td>Cultivo</td>\n      <td>0.279392</td>\n      <td>Ninguna</td>\n      <td>8° 30' 55,153\" N</td>\n      <td>77° 19' 39,360\" W</td>\n      <td>ACANDÍ</td>\n    </tr>\n    <tr>\n      <th>14</th>\n      <td>4726</td>\n      <td>Polygon</td>\n      <td>2019</td>\n      <td>T18PTQ_20190407T153621_TCI_10m.jp2 - T18PTQ_20...</td>\n      <td>Ganadería</td>\n      <td>0.284863</td>\n      <td>Ninguna</td>\n      <td>8° 25' 48,509\" N</td>\n      <td>77° 11' 27,234\" W</td>\n      <td>ACANDÍ</td>\n    </tr>\n  </tbody>\n</table>\n</div>",
       "datasetInfos": [],
       "metadata": {},
       "removedWidgets": [],
       "textData": null,
       "type": "htmlSandbox"
      }
     },
     "output_type": "display_data"
    }
   ],
   "source": [
    "areas_deforestadas.head(15)"
   ]
  },
  {
   "cell_type": "code",
   "execution_count": null,
   "metadata": {
    "application/vnd.databricks.v1+cell": {
     "cellMetadata": {},
     "inputWidgets": {},
     "nuid": "f23a9e17-93d2-46a2-8126-387891e467af",
     "showTitle": false,
     "title": ""
    }
   },
   "outputs": [],
   "source": []
  }
 ],
 "metadata": {
  "application/vnd.databricks.v1+notebook": {
   "dashboards": [],
   "language": "python",
   "notebookMetadata": {
    "pythonIndentUnit": 4
   },
   "notebookName": "Proyecto Analítica Clavijo Camacho González",
   "widgets": {}
  },
  "language_info": {
   "name": "python"
  }
 },
 "nbformat": 4,
 "nbformat_minor": 0
}
